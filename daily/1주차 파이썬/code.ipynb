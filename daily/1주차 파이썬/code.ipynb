{
 "cells": [
  {
   "cell_type": "code",
   "execution_count": 109,
   "id": "10ec479b-7cb7-48fd-b5f8-0fd21d210172",
   "metadata": {},
   "outputs": [],
   "source": [
    "import matplotlib.pyplot"
   ]
  },
  {
   "cell_type": "code",
   "execution_count": 110,
   "id": "4f0cd180-7ace-4b2a-bfa6-acd77e8a33f9",
   "metadata": {},
   "outputs": [
    {
     "data": {
      "text/plain": [
       "[<matplotlib.lines.Line2D at 0x2425c501f70>]"
      ]
     },
     "execution_count": 110,
     "metadata": {},
     "output_type": "execute_result"
    },
    {
     "data": {
      "image/png": "[encoded data removed]",
      "text/plain": [
       "<Figure size 432x288 with 1 Axes>"
      ]
     },
     "metadata": {
      "needs_background": "light"
     },
     "output_type": "display_data"
    }
   ],
   "source": [
    "matplotlib.pyplot.plot([1, 2, 7, 4, 9])"
   ]
  },
  {
   "cell_type": "code",
   "execution_count": null,
   "id": "942e8c20-e2b2-4b43-95ce-7821b2ff2c6c",
   "metadata": {
    "jupyter": {
     "source_hidden": true
    },
    "tags": []
   },
   "outputs": [],
   "source": []
  },
  {
   "cell_type": "code",
   "execution_count": null,
   "id": "c5ebaab6-6742-4a5d-bfe0-13b91399a10b",
   "metadata": {},
   "outputs": [],
   "source": [
    "t_list = list(dict.items()) # (key, value) → List"
   ]
  },
  {
   "cell_type": "code",
   "execution_count": 106,
   "id": "9402a7b4-4323-4b98-bad9-b477d9bd7879",
   "metadata": {},
   "outputs": [
    {
     "data": {
      "text/plain": [
       "[1, 3, 5, 1, 3]"
      ]
     },
     "execution_count": 106,
     "metadata": {},
     "output_type": "execute_result"
    }
   ],
   "source": [
    "li = [1, 3, 5, 1, 3]\n",
    "li"
   ]
  },
  {
   "cell_type": "code",
   "execution_count": 108,
   "id": "db6788b9-ce9d-4292-a36c-39e9e7ff9d3f",
   "metadata": {},
   "outputs": [
    {
     "data": {
      "text/plain": [
       "[1, 3, 5]"
      ]
     },
     "execution_count": 108,
     "metadata": {},
     "output_type": "execute_result"
    }
   ],
   "source": [
    "li = set(li)\n",
    "li = list(li)\n",
    "li"
   ]
  },
  {
   "cell_type": "code",
   "execution_count": 103,
   "id": "8f41ed76-4065-4acb-a80e-98e5c9c4dc1c",
   "metadata": {
    "jupyter": {
     "source_hidden": true
    },
    "tags": []
   },
   "outputs": [],
   "source": [
    "number = {\n",
    " '서울':'02', '대전':'042', '부산':'051',\n",
    " '광주':'062', '제주':'064'\n",
    "}"
   ]
  },
  {
   "cell_type": "code",
   "execution_count": null,
   "id": "615fce77-846e-4137-aa4f-109d473b3119",
   "metadata": {},
   "outputs": [],
   "source": [
    "number.keys()"
   ]
  },
  {
   "cell_type": "code",
   "execution_count": 105,
   "id": "533be871-e2df-4b28-ad20-134c7bba00cc",
   "metadata": {},
   "outputs": [
    {
     "data": {
      "text/plain": [
       "False"
      ]
     },
     "execution_count": 105,
     "metadata": {},
     "output_type": "execute_result"
    }
   ],
   "source": [
    "'천안' in number"
   ]
  },
  {
   "cell_type": "code",
   "execution_count": 104,
   "id": "0d96ca25-3ab3-4872-85a1-eee419bafa3b",
   "metadata": {},
   "outputs": [
    {
     "data": {
      "text/plain": [
       "'051'"
      ]
     },
     "execution_count": 104,
     "metadata": {},
     "output_type": "execute_result"
    }
   ],
   "source": [
    "number['부산']"
   ]
  },
  {
   "cell_type": "code",
   "execution_count": 102,
   "id": "f9f705e9-7a7c-4a16-bb35-d1ac81431631",
   "metadata": {},
   "outputs": [
    {
     "data": {
      "text/plain": [
       "False"
      ]
     },
     "execution_count": 102,
     "metadata": {},
     "output_type": "execute_result"
    }
   ],
   "source": [
    "s = 'Python'\n",
    "'p' in s"
   ]
  },
  {
   "cell_type": "code",
   "execution_count": 101,
   "id": "224538d0-8f1b-423a-b819-51f8ee4374f0",
   "metadata": {},
   "outputs": [
    {
     "data": {
      "text/plain": [
       "True"
      ]
     },
     "execution_count": 101,
     "metadata": {},
     "output_type": "execute_result"
    }
   ],
   "source": [
    "li = ['1', '2', '3']\n",
    "'1' in li"
   ]
  },
  {
   "cell_type": "code",
   "execution_count": 97,
   "id": "a098e6b1-149f-4327-ab21-19bef586803c",
   "metadata": {},
   "outputs": [
    {
     "data": {
      "text/plain": [
       "'123'"
      ]
     },
     "execution_count": 97,
     "metadata": {},
     "output_type": "execute_result"
    }
   ],
   "source": [
    "str(123)"
   ]
  },
  {
   "cell_type": "code",
   "execution_count": 96,
   "id": "ee55e133-f83b-4749-b459-5958ef9414e8",
   "metadata": {},
   "outputs": [],
   "source": [
    "del str"
   ]
  },
  {
   "cell_type": "code",
   "execution_count": 94,
   "id": "4a188bef-dafe-4a4d-8fc1-d7e297d27827",
   "metadata": {},
   "outputs": [
    {
     "data": {
      "text/plain": [
       "'Hello Python'"
      ]
     },
     "execution_count": 94,
     "metadata": {},
     "output_type": "execute_result"
    }
   ],
   "source": [
    "str"
   ]
  },
  {
   "cell_type": "code",
   "execution_count": 85,
   "id": "954060d9-8315-4dc5-a554-bfd31582bcdd",
   "metadata": {},
   "outputs": [
    {
     "data": {
      "text/plain": [
       "2"
      ]
     },
     "execution_count": 85,
     "metadata": {},
     "output_type": "execute_result"
    }
   ],
   "source": [
    "idx = s.count('i')\n",
    "idx"
   ]
  },
  {
   "cell_type": "code",
   "execution_count": 92,
   "id": "ac40344b-d4e4-4429-a086-8fb487dc591d",
   "metadata": {},
   "outputs": [],
   "source": [
    "li = [1, 3, 2]\n",
    "li.sort()"
   ]
  },
  {
   "cell_type": "code",
   "execution_count": 93,
   "id": "9e396e65-3391-4b69-9276-4696df250839",
   "metadata": {},
   "outputs": [
    {
     "data": {
      "text/plain": [
       "[1, 2, 3]"
      ]
     },
     "execution_count": 93,
     "metadata": {},
     "output_type": "execute_result"
    }
   ],
   "source": [
    "li"
   ]
  },
  {
   "cell_type": "code",
   "execution_count": 76,
   "id": "1ca5a8f7-0067-4d25-bf96-3f3987c48c7e",
   "metadata": {},
   "outputs": [],
   "source": [
    " dict = { 'a': 1, 'b': 2, 'c': 3, 'd': 4, 'e': 5 }"
   ]
  },
  {
   "cell_type": "code",
   "execution_count": 100,
   "id": "63249a4d-874e-4eb5-a061-4c452fdc0b30",
   "metadata": {},
   "outputs": [
    {
     "name": "stdout",
     "output_type": "stream",
     "text": [
      "a:1\n",
      "b:2\n",
      "c:3\n",
      "d:4\n",
      "e:5\n"
     ]
    }
   ],
   "source": [
    "for key in keys:\n",
    "    print('%s:%s' % (key, dict[key]))"
   ]
  },
  {
   "cell_type": "code",
   "execution_count": 79,
   "id": "cf9d4678-d9c2-4fbb-9e4f-97c1828d67b4",
   "metadata": {},
   "outputs": [
    {
     "data": {
      "text/plain": [
       "dict_keys(['a', 'b', 'c', 'd', 'e'])"
      ]
     },
     "execution_count": 79,
     "metadata": {},
     "output_type": "execute_result"
    }
   ],
   "source": [
    "dict.keys()"
   ]
  },
  {
   "cell_type": "code",
   "execution_count": 98,
   "id": "d62ef2da-cdcc-4b74-8d6c-d3bb2c4ae2da",
   "metadata": {},
   "outputs": [
    {
     "data": {
      "text/plain": [
       "['a', 'b', 'c', 'd', 'e']"
      ]
     },
     "execution_count": 98,
     "metadata": {},
     "output_type": "execute_result"
    }
   ],
   "source": [
    "keys = list(dict.keys())\n",
    "keys"
   ]
  },
  {
   "cell_type": "code",
   "execution_count": 78,
   "id": "41b3382f-701a-42f3-820a-fe65f9fcaa9a",
   "metadata": {},
   "outputs": [
    {
     "ename": "KeyError",
     "evalue": "'가'",
     "output_type": "error",
     "traceback": [
      "\u001b[1;31m------------------------------------------------\u001b[0m",
      "\u001b[1;31mKeyError\u001b[0m       Traceback (most recent call last)",
      "\u001b[1;32m<ipython-input-78-ed0754330eef>\u001b[0m in \u001b[0;36m<module>\u001b[1;34m\u001b[0m\n\u001b[1;32m----> 1\u001b[1;33m \u001b[0mdict\u001b[0m\u001b[1;33m[\u001b[0m\u001b[1;34m'가'\u001b[0m\u001b[1;33m]\u001b[0m\u001b[1;33m\u001b[0m\u001b[1;33m\u001b[0m\u001b[0m\n\u001b[0m",
      "\u001b[1;31mKeyError\u001b[0m: '가'"
     ]
    }
   ],
   "source": [
    "dict['가']"
   ]
  },
  {
   "cell_type": "code",
   "execution_count": null,
   "id": "1ac8705c-64a9-4f42-8f75-66d2f402a14f",
   "metadata": {},
   "outputs": [],
   "source": [
    "s = ' \\'life\\' \\\"python\\\"  '"
   ]
  },
  {
   "cell_type": "code",
   "execution_count": 72,
   "id": "035d56a9-fefd-4342-8aa5-6cb19d449e6d",
   "metadata": {},
   "outputs": [
    {
     "data": {
      "text/plain": [
       "22366"
      ]
     },
     "execution_count": 72,
     "metadata": {},
     "output_type": "execute_result"
    }
   ],
   "source": [
    "text.find('날개')"
   ]
  },
  {
   "cell_type": "code",
   "execution_count": 73,
   "id": "88f5188a-9cff-41ac-8347-054f5d338de0",
   "metadata": {},
   "outputs": [
    {
     "data": {
      "text/plain": [
       "22389"
      ]
     },
     "execution_count": 73,
     "metadata": {},
     "output_type": "execute_result"
    }
   ],
   "source": [
    "text.find('날개', 22367)"
   ]
  },
  {
   "cell_type": "code",
   "execution_count": 74,
   "id": "4c0c077a-35b3-47ce-aab2-6bdac7ddd721",
   "metadata": {},
   "outputs": [
    {
     "data": {
      "text/plain": [
       "22474"
      ]
     },
     "execution_count": 74,
     "metadata": {},
     "output_type": "execute_result"
    }
   ],
   "source": [
    "text.find('날개', 22390)"
   ]
  },
  {
   "cell_type": "code",
   "execution_count": 75,
   "id": "a65c72b9-aa18-4c2d-9f3e-2b9f2647917f",
   "metadata": {},
   "outputs": [
    {
     "data": {
      "text/plain": [
       "-1"
      ]
     },
     "execution_count": 75,
     "metadata": {},
     "output_type": "execute_result"
    }
   ],
   "source": [
    "text.find('날개', 22475)"
   ]
  },
  {
   "cell_type": "code",
   "execution_count": 70,
   "id": "358170bd-0ea3-424e-980e-3dbb0861c91e",
   "metadata": {},
   "outputs": [],
   "source": [
    "text = '''\n",
    "<박제가 되어버린 천재>를 아시오? 나는 유쾌하오. 이런 때 연애까지가 유쾌하오.\n",
    "\n",
    "육신이 흐느적흐느적하도록 피로했을 때만 정신이 은화(銀貨)처럼 맑소. 니코틴이 내 회ㅅ(蛔)배 앓는 뱃속으로 스미면 머리 속에 으례히 백지가 준비되는 법이오. 그 위에다 나는 위트와 파라독스를 바둑 포석처럼 늘어놓았소. 가증할 상식의 병이오.\n",
    "\n",
    "나는 또 여인과 생활을 설계하오. 연애 기법에마저 서먹서먹해진, 지성의 극치를 흘낏 좀 들여다본 일이 있는, 말하자면 일종의 정신분일자 말이오. 이런 여인의 반(半) - 그것은 온갖 것의 반이오 - 만을 영수(領收)하는 생활을 설계한다는 말이오. 그런 생활 속에 한 발만 들여놓고 흡사(恰似) 두 개의 태양처럼 마주 쳐다보면서 낄낄거리는 것이오. 나는 아마 어지간히 인생의 제행이 싱거워서 견딜 수가 없게쯤 되고 그만 둔 모양이오. 굿바이.\n",
    "\n",
    "굿바이. 그대는 이따금 그대가 제일 싫어하는 음식을 탐식하는 아이러니를 실천해 보는 것도 좋을 것 같소. 위트와 파라독스와...\n",
    "\n",
    "그대 자신을 위조하는 것도 할 만한 일이오. 그대의 작품은 한 번도 본 일이 없는 기성품에 의하여 차라리 경편(輕便)하고 고매(高邁)하리다.\n",
    "\n",
    "19세기는 될 수 있거든 봉쇄하여 버리오. 도스토예프스키의 정신이란 자칫하면 낭비인 것 같소. 위고를 프랑스의 빵 한 조각이라고는 누가 그랬는지 지언(至言)인 듯싶소. 그러나 인생 혹은 그 모형에 있어서 디테일 때문에 속는다거나 해서야 되겠소? 화(禍)를 보지 마오. 부디 그대께 고(告)하는 것이니...\n",
    "\n",
    "<테이프가 끊어지면 피가 나오. 상채기도 머지 않아 완치될 줄 믿소. 굿바이>\n",
    "\n",
    "감정은 어떤 포우즈. <그 포우즈의 원소만을 지적하는 것이 아닌지 나도 모르겠소>\n",
    "\n",
    "그 포우즈가 부동자세에까지 고도화할 때 감정은 딱 공급을 정지합네다.\n",
    "\n",
    "나는 내 비범한 발육을 회고하여 세상을 보는 안목을 규정하였소.\n",
    "\n",
    "여왕봉과 미망인 - 세상의 하고많은 여인이 본질적으로 이미 미망인 아닌 이가 있으리까? 아니! 여인의 전부가 그 일상에 있어서 개개 <미망인>이라는 내 논리가 뜻밖에도 여성에 대한 모독이 되오? 굿바이.\n",
    "\n",
    "그 33번지라는 것이 구조가 흡사 유곽이라는 느낌이 없지 않다.\n",
    "\n",
    "한 번지에 18가구가 죽 - 어깨를 맞대고 늘어서서 창호가 똑같고 아궁지 모양이 똑같다. 게다가 각 가구에 사는 사람들이 송이송이 꽃과 같이 젊다.\n",
    "\n",
    "해가 들지 않는다. 해가 드는 것을 그들이 모른 체하는 까닭이다. 턱살 밑에다 철줄을 매고 얼룩진 이부자리를 널어 말린다는 핑계로 미닫이에 해가 드는 것을 막아 버린다. 침침한 방안에서 낮잠들을 잔다. 그들은 밤에는 잠을 자지 않나? 알 수 없다. 나는 밤이나 낮이나 잠만 자느라고 그런 것은 알 길이 없다. 33번지 18가구의 낮은 참 조용하다.\n",
    "\n",
    "조용한 것은 낮뿐이다. 어둑어둑하면 그들은 이부자리를 걷어들인다. 전등불이 켜진 뒤의 18가구는 낮보다 훨씬 화려하다. 저물도록 미닫이 여닫는 소리가 잦다. 바빠진다. 여러 가지 내음새가 나기 시작한다. 비웃 굽는 내, 탕고도오란 내, 뜨물 내, 비눗 내...\n",
    "\n",
    "그러나, 이런 것들보다도 그들의 문패가 제일로 고개를 끄덕이게 하는 것이다.\n",
    "\n",
    "이 18가구를 대표하는 대문이라는 것이 일각이 져서 외따로 떨어지기는 했으나 있다. 그러나 그것은 한 번도 닫힌 일이 없는 한길이나 마찬가지 대문인 것이다. 온갖 장사아치들은 하루 가운데 어느 시간에라도 이 대문을 통하여 드나들 수가 있는 것이다. 이네들은 문간에서 두부를 사는 것이 아니라 미닫이만 열고 방에서 두부를 사는 것이다. 이렇게 생긴 33번지 대문에 그들 18가구의 문패를 몰아다 붙이는 것은 의미가 없다. 그들은 어느 사이엔가 각 미닫이 위 백인당(百忍堂)이니 길상당(吉祥堂)이니 써붙인 한곁에다 문패를 붙이는 풍속을 가져버렸다.\n",
    "\n",
    "내 방 미닫이 위 한곁에 칼표 딱지를 넷에다 낸 것만한 내 - 아니! 내 아내의 명함이 붙어있는 것도 이 풍속을 좇는 것이 아닐 수 없다.\n",
    "\n",
    "나는 그러나 그들의 아무와도 놀지 않는다. 놀지 않을 뿐만 아니라 인사도 않는다. 나는 내 아내와 인사하는 외에 누구와도 인사하고 싶지 않았다.\n",
    "\n",
    "내 아내 외의 다른 사람과 인사를 하거나 놀거나 하는 것은 내 아내 낯을 보아 좋지 않은 일인 것만 같이 생각이 들었기 때문이다. 나는 이만큼까지 내 아내를 소중히 생각한 것이다.\n",
    "\n",
    "내가 이렇게까지 내 아내를 소중히 생각한 까닭은 이 33번지 18가구 가운데서 내 아내가 내 아내의 명함처럼 제일 작고 제일 아름다운 것을 안 까닭이다. 18가구에 각기 별러 들은 송이송이 꽃들 가운데서도 내 아내는 특히 아름다운 한 떨기의 꽃으로 이 함석 지붕 밑 볕 안 드는 지역에서 어디까지든지 찬란하였다. 따라서 그런 한 떨기 꽃을 지키고 - 아니 그 꽃에 매어달려 사는 나라는 존재가 도무지 형언할 수 없는 거북스러운 존재가 아닐 수 없었던 것은 물론이다.\n",
    "\n",
    "나는 어디까지든지 내 방이 - 집이 아니다, 집은 없다 - 마음에 들었다. 방안의 기온은 내 체온을 위하여 쾌적하였고 방안의 침침한 정도가 또한 내 안력을 위하여 쾌적하였다. 나는 내 방 이상의 서늘한 방도 또 따뜻한 방도 희망하지는 않았다. 이 이상으로 밝거나 이 이상으로 아늑한 방을 원하지 않았다. 내 방은 나 하나를 위하여 요만한 정도를 꾸준히 지키는 것 같아 늘 내 방에 감사하였고 나는 또 이런 방을 위하여 이 세상에 태어난 것만 같아서 즐거웠다.\n",
    "\n",
    "그러나 이것은 행복이라든가 불행이라든가 하는 것을 계산하는 것은 아니었다. 말하자면 나는 내가 행복되다고도 생각할 필요가 없었고 그렇다고 불행하다고도 생각할 필요가 없었다. 그냥 그날그날을 그저 까닭 없이 펀둥펀둥 게으르고만 있으면 만사는 그만이었던 것이다.\n",
    "\n",
    "내 몸과 마음에 옷처럼 잘 맞는 방 속에서 뒹굴면서 축 처져있는 것을 행복이니 불행이니 하는 그런 세속적인 계산을 떠난 가장 편리하고 안일한, 말하자면 절대적인 상태인 것이다. 나는 이런 상태가 좋았다.\n",
    "\n",
    "이 절대적인 내 방은 대문간에서 세어서 똑 - 일곱째 칸이다. 럭키 세븐의 뜻이 없지 않다. 나는 이 일곱이라는 숫자를 훈장처럼 사랑하였다. 이런 이 방이 가운데 장지로 말미암아 두 칸으로 나뉘어있었다는 그것이 내 운명의 상징이었던 것을 누가 알랴?\n",
    "\n",
    "아랫방은 그래도 해가 든다. 아침결에 책보만한 해가 들었다가 오후에 손수건만해지면서 나가버린다. 해가 영영 들지 않는 웃방이 즉 내 방인 것은 말할 것도 없다. 이렇게 볕 드는 방이 아내 방이요, 볕 안 드는 방이 내 방이요 하고 아내와 나 둘 중에 누가 정했는지 나는 기억하지 못한다. 그러나 나에게는 불평이 없다.\n",
    "\n",
    "아내가 외출만 하면 얼른 아랫방으로 와서 그 동쪽으로 난 들창을 열어놓고, 열어놓으면 들이비치는 볕살이 아내의 화장대를 비쳐 가지각색 병들이 아롱이 지면서 찬란하게 빛나고 이렇게 빛나는 것을 보는 것은 다시 없는 내 오락이다. 나는 쪼꼬만 <돋보기>를 꺼내가지고 아내만이 사용하는 지리가미를 끄실려가면서 불장난을 하고 논다. 평행광선을 굴절시켜서 한 초점에 모아가지고 고 초점이 따끈따끈해지다가 마지막에는 종이를 끄실르기 시작하고 가느다란 연기를 내이면서 드디어 구멍을 뚫어놓는 데까지에 이르는 그 얼마 안 되는 동안의 초조한 맛이 죽고 싶을 만치 내게는 재미있었다.\n",
    "\n",
    "이 장난이 싫증이 나면 나는 또 아내의 손잡이 거울을 가지고 여러 가지로 논다. 거울이란 제 얼굴을 비칠 때만 실용품이다. 그 외의 경우에는 도무지 장난감인 것이다.\n",
    "\n",
    "이 장난도 곧 싫증이 난다. 나의 유희심은 육체적인 데서 정신적인 데로 비약한다. 나는 거울을 내던지고 아내의 화장대 앞으로 가까이 가서 나란히 늘어놓인 그 가지각색의 화장품 병들을 들여다본다. 고것들은 세상의 무엇보다도 매력적이다. 나는 그 중의 하나만을 골라서 가만히 마개를 빼고 병 구멍을 내 코에 가져다 대고 숨 죽이듯이 가벼운 호흡을 하여본다. 이국적인 센슈얼한 향기가 폐로 스며들면 나는 저절로 스르르 감기는 내 눈을 느낀다. 확실히 아내의 체취의 파편이다. 나는 도로 병마개를 막고 생각해 본다. 아내의 어느 부분에서 요 내음새가 났던가를... 그러나 그것은 분명치 않다. 왜? 아내의 체취는 여기 늘어섰는 가지각색 향기의 합계일 것이니까.\n",
    "\n",
    "아내의 방은 늘 화려하였다. 내 방이 벽에 못 한 개 꽂히지 않은 소박한 것인 반대로 아내 방에는 천장 밑으로 · 돌려 못이 박히고 못마다 화려한 아내의 치마와 저고리가 걸렸다. 여러 가지 무늬가 보기 좋다. 나는 그 여러 조각의 치마에서 늘 아내의 동체와 그 동체가 될 수 있는 여러 가지 포우즈를 연상하고 연상하면서 내 마음은 늘 점잖지 못하다.\n",
    "\n",
    "그렇건만 나에게는 옷이 없었다. 아내는 내게는 옷을 주지 않았다. 입고 있는 코르덴 양복 한 벌이 내 자리옷이었고 통상복과 나들이옷을 겸한 것이었다. 그리고 하이넥크의 스웨터가 한 조각 사철을 통한 내 내의다. 그것들은 하나같이 다 빛이 검다. 그것은 내 짐작 같아서는 즉 빨래를 될 수 있는 데까지 하지 않아도 보기 싫지 않도록 하기 위한 것이 아닌가 한다. 나는 허리와 두 가랑이 세 군데 다 - 고무 밴드가 끼여있는 부드러운 사루마다를 입고, 그리고 아무 소리없이 잘 놀았다.\n",
    "\n",
    "\n",
    "\n",
    "어느덧 손수건만해졌던 볕이 나갔는데 아내는 외출에서 돌아오지 않는다. 나는 요만 일에도 좀 피곤하였고 또 아내가 돌아오기 전에 내 방으로 가 있어야 될 것을 생각하고 그만 내 방으로 건너간다. 내 방은 침침하다. 나는 이불을 뒤집어쓰고 낮잠을 잔다. 한 번도 걷은 일이 없는 내 이부자리는 내 몸뚱이의 일부분처럼 내게는 참 반갑다. 잠은 잘 오는 적도 있다. 그러나 또 전신이 까칫까칫하면서 영 잠이 오지 않는 적도 있다.\n",
    "\n",
    "그런 때는 아무 제목으로나 제목을 하나 골라서 연구하였다. 나는 내 좀 축축한 이불 속에서 참 여러 가지 발명도 하였고 논문도 많이 썼다. 시도 많이 지었다. 그러나 그것들은 내가 잠이 드는 것과 동시에 내 방에 담겨서 철철 넘치는 그 흐늑흐늑한 공기에 다 - 비누처럼 풀어져서 온 데 간 데가 없고 한참 자고 깨인 나는 속이 무명 헝겊이나 메밀껍질로 띵띵 찬 한 덩어리 베개와도 같은 한벌 신경이었을 뿐이고 뿐이고 하였다.\n",
    "\n",
    "그러기에 나는 빈대가 무엇보다도 싫었다. 그러나 내 방에서는 겨울에도 몇 마리씩의 빈대가 끊지지 않고 나왔다. 내게 근심이 있었다면 오직 이 빈대를 미워하는 근심일 것이다. 나는 빈대에게 물려서 가려운 자리를 피가 나도록 긁었다. 쓰라리다. 그것은 그윽한 쾌감에 틀림없었다. 나는 혼곤히 잠이 든다.\n",
    "\n",
    "나는 그러나 그런 이불 속의 사색 생활에서도 적극적인 것을 궁리하는 법이 없다. 내게는 그럴 필요가 대체 없었다. 만일 내가 그런 좀 적극적인 것을 궁리해 내었을 경우에 나는 반드시 내 아내와 의논하여야 할 것이고 그러면 반드시 나는 아내에게 꾸지람을 들을 것이고 - 나는 꾸지람이 무서웠다느니보다도 성가셨다. 내가 제법 한 사람의 사회인의 자격으로 일을 해보는 것도 아내에게 사설 듣는 것도 나는 가장 게으른 동물처럼 게으른 것이 좋았다. 될 수만 있으면 이 무의미한 인간의 탈을 벗어버리고도 싶었다.\n",
    "\n",
    "나에게는 인간 사회가 스스로왔다. 생활이 스스로왔다. 모두가 서먹서먹할 뿐이었다.\n",
    "\n",
    "아내는 하루에 두 번 세수를 한다.\n",
    "\n",
    "나는 하루 한 번도 세수를 하지 않는다.\n",
    "\n",
    "나는 밤중 세 시나 네 시 해서 변소에 갔다. 달이 밝은 밤에는 한참씩 마당에 우두커니 섰다가 들어오곤 한다. 그러니까 나는 이 18가구의 아무와도 얼굴이 마주치는 일이 거의 없다. 그러면서도 나는 이 18가구의 젊은 여인네 얼굴들을 거의 다 기억하고 있었다. 그들은 하나같이 내 아내만 못하였다.\n",
    "\n",
    "열 한 시쯤 해서 하는 아내의 첫 번 세수는 좀 간단하다. 그러나 저녁 일곱 시쯤 해서 하는 두 번째 세수는 손이 많이 간다. 아내는 낮에보다도 밤에 더 좋고 깨끗한 옷을 입는다. 그리고 낮에도 외출하고 밤에도 외출하였다.\n",
    "\n",
    "아내에게 직업이 있었던가? 나는 아내의 직업이 무엇인지 알 수 없다. 만일 아내에게 직업이 없었다면, 같이 직업이 없는 나처럼 외출할 필요가 생기지 않을 것인데 - 아내는 외출한다. 외출할 뿐만 아니라 내객이 많다. 아내에게 내객이 많은 날은 나는 온종일 내 방에서 이불을 쓰고 누워있어야만 된다.\n",
    "\n",
    "불장난도 못한다. 화장품 내음새도 못 맡는다. 그런 날은 나는 의식적으로 우울해 하였다. 그러면 아내는 나에게 돈을 준다. 오십 전짜리 은화다. 나는 그것이 좋았다. 그러나 그것을 무엇에 써야 옳을지 몰라서 늘 머리맡에 던져두고 두고 한 것이 어느 결에 모여서 꽤 많아졌다. 어느날 이것을 본 아내는 금고처럼 생긴 벙어리를 사다 준다. 나는 한 푼씩 한 푼씩 고 속에 넣고 열쇠는 아내가 가져갔다.\n",
    "\n",
    "그 후에도 나는 더러 은화를 그 벙어리에 넣은 것을 기억한다. 그리고 나는 게을렀다. 얼마 후 아내의 머리 쪽에 보지 못하던 누깔잠이 하나 여드름처럼 돋았던 것은 바로 그 금고형 벙어리의 무게가 가벼워졌다는 증거일까. 그러나 나는 드디어 머리맡에 놓였던 그 벙어리에 손을 대지 않고 말았다. 내 게으름은 그런 것에 내 주의를 환기시키기도 싫었다.\n",
    "\n",
    "아내에게 내객이 있는 날은 이불 속으로 암만 깊이 들어가도 비오는 날만큼 잠이 잘 오지 않았다. 나는 그런 때 아내에게는 왜 늘 돈이 있나, 왜 돈이 많은가를 연구했다.\n",
    "\n",
    "내객들은 장지 저쪽에 내가 있는 것을 모르나보다. 내 아내와 나도 좀 하기 어려운 농을 아주 서슴지 않고 쉽게 해 내던지는 것이다. 그러나, 내 아내를 가운데로 서너 사람의 내객들은 늘 비교적 점잖았다고 볼 수 있는 것이 자정이 좀 지나면 으례 돌아들 갔다. 그들 가운데는 퍽 교양이 옅은 자도 있는 듯싶었는데 그런 자는 보통 음식을 사다 먹고 논다. 그래서 보충을 하고 대체로 무사하였다.\n",
    "\n",
    "나는 우선 내 아내의 직업이 무엇인가를 연구하기에 착수하였으나 좁은 시야와 부족한 지식으로는 이것을 알아내기 힘이 든다. 나는 끝끝내 내 아내의 직업이 무엇인가를 모르고 말려나보다.\n",
    "\n",
    "아내는 늘 진솔 버선만 신었다. 아내는 밥도 지었다. 아내가 밥 짓는 것을 나는 한 번도 구경한 일은 없으나 언제든지 끼니 때면 내 방으로 내 조석밥을 날라다 주는 것이다. 우리집에는 나와 내 아내 외의 다른 사람은 아무도 없다. 이 밥은 분명히 아내가 손수 지었음에 틀림없다.\n",
    "\n",
    "그러나 아내는 한 번도 나를 자기 방으로 부른 일이 없다.\n",
    "\n",
    "나는 늘 웃방에서 나 혼자서 밥을 먹고 잠을 잤다. 밥은 너무 맛이 없었다. 반찬이 너무 엉성하였다. 나는 닭이나 강아지처럼 말없이 주는 모이를 넙죽넙죽 받아먹기는 했으나 내심 야속하게 생각한 적도 더러 없지 않다. 나는 안색이 여지없이 창백해 가면서 말라들어갔다. 나날이 눈에 보이듯이 기운이 줄어들어갔다. 영양 부족으로 하여 몸뚱이 곳곳이 뼈가 불쑥불쑥 내밀었다. 하룻밤 사이에도 수십차를 돌쳐눕지 않고는 여기저기가 배겨서 나는 배겨낼 수가 없었다.\n",
    "\n",
    "그렇기 때문에 나는 내 이불 속에서 아내가 늘 흔히 쓸 수 있는 저 돈의 출처를 탐색해 보는 일변 장지 틈으로 새어나오는 아랫방의 음식은 무엇일까를 간단히 연구하였다. 나는 잠이 잘 안왔다.\n",
    "\n",
    "깨달았다. 아내가 쓰는 돈은 그 내게는 다만 실없는 사람들로밖에 보이지 않는 까닭 모를 내객들이 놓고 가는 것에 틀림없으리라는 것을 나는 깨달았다. 그러나 왜 그들 내객은 돈을 놓고 가나, 왜 내 아내는 그 돈을 받아야 되나 하는 예의 관념이 내게는 도무지 알 수 없는 것이었다.\n",
    "\n",
    "그것은 그저 예의에 지나지 않는 것일까. 그렇지 않으면 혹 무슨 대가일까 보수일까. 내 아내가 그들의 눈에는 동정을 받아야만 할 가엾은 인물로 보였던가.\n",
    "\n",
    "이런 것들을 생각하노라면 으례 내 머리는 그냥 혼란하여 버리고 버리고 하였다. 잠들기 전에 획득했다는 결론이 오직 불쾌하다는 것뿐이었으면서도 나는 그런 것을 아내에게 물어보거나 한 일이 참 한 번도 없다. 그것은 대체 귀찮기도 하려니와 한잠 자고 일어나는 나는 사뭇 딴사람처럼 이것도 저것도 다 깨끗이 잊어버리고 그만두는 까닭이다.\n",
    "\n",
    "내객들이 돌아가고, 혹 밤 외출에서 돌아오고 하면 아내는 경편한 것으로 옷을 바꾸어입고 내 방으로 나를 찾아온다.\n",
    "\n",
    "그리고 이불을 들치고 내 귀에는 영 생동생동한 몇 마디 말로 나를 위로하려 든다. 나는 조소(嘲笑)도 고소(苦笑)도 홍소(哄笑)도 아닌 웃음을 얼굴에 띠우고 아내의 아름다운 얼굴을 쳐다본다. 아내는 방그레 웃는다. 그러나 그 얼굴에 떠도는 일말의 애수를 나는 놓치지 않는다.\n",
    "\n",
    "아내는 능히 내가 배고파 하는 것을 눈치채일 것이다. 그러나 아랫방에서 먹고 남은 음식을 나에게 주려들지는 않는다. 그것은 어디까지든지 나를 존경하는 마음일 것임에 틀림없다. 나는 배가 고프면서도 저으기 마음이 든든한 것을 좋아했다. 아내가 무엇이라고 지껄이고 갔는지 귀에 남아있을 리가 없다. 다만 내 머리맡에 아내가 놓고 간 은화가 전등불에 흐릿하게 빛나고 있을 뿐이다. 고 금고형 벙어리 속에 고 은화가 얼마큼이나 모였을까. 나는 그러나 그것을 쳐들어보지 않았다. 그저 아무런 의욕도 기원도 없이 그 단추 구멍처럼 생긴 틈바구니로 은화를 들여뜨려 둘 뿐이었다.\n",
    "\n",
    "왜 아내의 내객들이 아내에게 돈을 놓고 가나 하는 것이 풀 수 없는 의문인 것같이 왜 아내는 나에게 돈을 놓고 가나 하는 것도 역시 나에게는 똑같이 풀 수 없는 의문이었다. 내 비록 아내가 내게 돈을 놓고 가는 것이 싫지 않았다 하더라도 그것은 다만 고것이 내 손가락에 닿는 순간에서부터 고 벙어리 주둥이에서 자취를 감추기까지의 하잘것없는 짧은 촉각이 좋았달 뿐이지 그 이상 아무 기쁨도 없다.\n",
    "\n",
    "어느 날 나는 그 벙어리를 변소에 갖다 넣어버렸다. 그때 벙어리 속에는 몇 푼이나 되는지는 모르겠으나 고 은화들이 꽤 들어있었다. 나는 내가 지구 위에 살며 내가 이렇게 살고 있는 지구가 질풍신뢰의 속력으로 광대무변의 공간을 달리고 있다는 것을 생각했을 때 참 허망하였다. 나는 이렇게 부지런한 지구 위에서는 현기증도 날 것 같고 해서 한시 바삐 내려버리고 싶었다.\n",
    "\n",
    "이불 속에서 이런 생각을 하고 난 뒤에는 나는 고 은화를 고 벙어리에 넣고 넣고 하는 것조차도 귀찮아졌다. 나는 아내가 손수 벙어리를 사용하였으면 하고 희망하였다. 벙어리도 돈도 사실은 아내에게만 필요한 것이지 내게는 애초부터 의미가 전연 없는 것이었으니까 될 수만 있으면 그 벙어리를 아내가 아내 방으로 가져갔으면 하고 기다렸다. 그러나 아내는 가져가지 않는다. 나는 내가 아내 방으로 가져다 둘까 하고 생각하여 보았으나 그 즈음에는 아내의 내객이 원체 많아서 내가 아내 방에 가 볼 기회가 도무지 없었다. 그래서 나는 하는 수 없이 변소에 갖다 집어넣어 버리고 만 것이다.\n",
    "\n",
    "나는 서글픈 마음으로 아내의 꾸지람을 기다렸다. 그러나 아내는 끝내 아무 말도 나에게 묻지도 하지도 않았다. 않았을 뿐 아니라 여전히 돈은 돈대로 내 머리맡에 놓고 가지 않나? 내 머리맡에는 어느덧 은화가 꽤 많이 모였다.\n",
    "\n",
    "내객이 아내에게 돈을 놓고 가는 것이나 아내가 내게 돈을 놓고 가는 것이나 일종의 쾌감 - 그 외의 다른 아무런 이유도 없는 것이 아닐까 하는 것을 나는 또 이불 속에서 연구하기 시작하였다. 쾌감이라면 어떤 종류의 쾌감일까를 계속하여 연구하였다. 그러나 그것은 이불 속의 연구로는 알 길이 없었다. 쾌감 쾌감, 하고 나는 뜻밖에도 이 문제에 대해서만 흥미를 느꼈다.\n",
    "\n",
    "아내는 물론 나를 늘 감금하여 두다시피 하여왔다. 내게 불평이 있을 리 없다. 그런 중에도 나는 그 쾌감이라는 것의 유무를 체험하고 싶었다.\n",
    "\n",
    "나는 아내의 밤 외출 틈을 타서 밖으로 나왔다. 나는 거리에서 잊어버리지 않고 가지고 나온 은화를 지폐로 바꾼다. 5원이나 된다. 그것을 주머니에 넣고 나는 목적을 잃어버리기 위하여 얼마든지 거리를 쏘다녔다. 오래간만에 보는 거리는 거의 경이에 가까울 만치 내 신경을 흥분시키지 않고는 마지 않았다. 나는 금시에 피곤하여 버렸다. 그러나 나는 참았다. 그리고 밤이 으슥하도록 까닭을 잊어버린 채 이 거리 저 거리로 지향없이 헤매었다. 돈은 물론 한 푼도 쓰지 않았다. 돈을 쓸 아무 엄두도 나서지 않았다. 나는 벌써 돈을 쓰는 기능을 완전히 상실한 것 같았다.\n",
    "\n",
    "나는 과연 피로를 이 이상 견디기가 어려웠다. 나는 가까스로 내 집을 찾았다. 나는 내 방으로 가려면 아내 방을 통과하지 아니하면 안 될 것을 알고 아내에게 내객이 있나 없나를 걱정하면서 미닫이 앞에서 좀 거북살스럽게 기침을 한번 했더니 이것은 참 또 너무 암상스럽게 미닫이가 열리면서 아내의 얼굴과 그 등뒤에 낯설은 남자의 얼굴이 이쪽을 내다 보는 것이다. 나는 별안간 내어쏟아지는 불빛에 눈이 부셔서 좀 머뭇머뭇 했다.\n",
    "\n",
    "나는 아내의 눈초리를 못 본 것은 아니다. 그러나 나는 모른 체하는 수밖에 없었다. 왜? 나는 어쨌든 아내의 방을 통과하지 아니하면 안되니까...\n",
    "\n",
    "나는 이불을 뒤집어썼다. 무엇보다도 다리가 아파서 견딜 수가 없었다. 이불 속에서는 가슴이 울렁거리면서 암만해도 까무러칠 것만 같았다. 걸을 때는 몰랐더니 숨이 차다. 등에 식은 땀이 쭉 내배인다. 나는 외출한 것을 후회하였다. 이런 피로를 잊고 어서 잠이 들었으면 좋았다. 한참 잘 - 자고 싶었다.\n",
    "\n",
    "얼마 동안이나 비스듬히 엎드려 있었더니 차츰차츰 뚝딱거리는 가슴 동기가 가라앉는다. 그만해도 우선 살 것 같았다. 나는 몸을 돌쳐 반듯이 천장을 향하여 눕고 쭉 - 다리를 뻗었다.\n",
    "\n",
    "그러나 나는 또다시 가슴의 동기를 피할 수 없게 되었다. 아랫방에서 아내와 그 남자의 내 귀에도 들리지 않을 만치 옅은 목소리로 소곤거리는 기척이 장지 틈으로 전하여 왔던 것이다. 청각을 더 예민하게 하기 위하여 나는 눈을 떴다. 그리고 숨을 죽였다. 그러나 그때는 벌써 아내와 남자는 앉았던 자리를 툭툭 털며 일어섰고 일어서면서 옷과 모자 쓰는 기척이 나는 듯하더니 이어 미닫이가 열리고 구두 뒤축 소리가 나고 그리고 뜰에 내려서는 소리가 쿵 하고 나면서 뒤를 따르는 아내의 고무신 소리가 두어 발자국 찍찍 나고 사뿐사뿐 나나 하는 사이에 두 사람의 발소리가 대문간 쪽으로 사라졌다.\n",
    "\n",
    "나는 아내의 이런 태도를 본 일이 없다. 아내는 어떤 사람과도 결코 소곤거리는 법이 없다. 나는 웃방에서 이불을 쓰고 누웠는 동안에도 혹 술이 취해서 혀가 잘 돌아가지 않는 내객들의 담화는 더러 놓치는 수가 있어도 아내의 높지도 얕지도 않은 말소리는 일찌기 한 마디도 놓쳐 본 일이 없다. 더러 내 귀에 거슬리는 소리가 있어도 나는 그것이 태연한 목소리로 내 귀에 들렸다는 이유로 충분히 안심이 되었다.\n",
    "\n",
    "그렇던 아내의 이런 태도는 필시 그 속에 여간하지 않은 사정이 있는 듯싶이 생각이 되고 내 마음은 좀 서운했으나 그러나 그보다도 나는 좀 너무 피곤해서 오늘만은 이불 속에서 아무것도 연구치 않기로 굳게 결심하고 잠을 기다렸다. 잠은 좀처럼 오지 않았다. 대문간에 나간 아내도 좀처럼 들어오지 않았다. 그러는 동안에 흐지부지 나는 잠이 들어버렸다. 꿈이 얼쑹덜쑹 종을 잡을 수 없는 거리의 풍경을 여전히 헤맸다.\n",
    "\n",
    "나는 몹시 흔들렸다. 내객을 보내고 들어온 아내가 잠든 나를 잡아 흔드는 것이다. 나는 눈을 번쩍 뜨고 아내의 얼굴을 쳐다보았다. 아내의 얼굴에는 웃음이 없다. 나는 좀 눈을 비비고 아내의 얼굴을 자세히 보았다. 노기가 눈초리에 떠서 얇은 입술이 바르르 떨린다. 좀처럼 이 노기가 풀리기는 어려울 것 같았다. 나는 그대로 눈을 감아버렸다. 벼락이 내리기를 기다린 것이다. 그러나 쌔근하는 숨소리가 나면서 푸스스 아내의 치맛자락 소리가 나고 장지가 여닫히며 아내는 아내 방으로 들어갔다. 나는 다시 몸을 돌쳐 이불을 뒤집어쓰고는 개구리처럼 엎드리고 엎드려서 배가 고픈 가운데에도 오늘 밤의 외출을 또 한번 후회하였다.\n",
    "\n",
    "나는 이불 속에서 아내에게 사죄하였다. 그것은 네 오해라고... 나는 사실 밤이 퍽으나 이슥한 줄만 알았던 것이다. 그것이 네 말마따나 자정 전인 줄은 나는 정말이지 꿈에도 몰랐다. 나는 너무 피곤하였다. 오래간만에 나는 너무 많이 걸은 것이 잘못이다. 내 잘못이라면 잘못은 그것밖에 없다. 외출은 왜 하였느냐고?\n",
    "\n",
    "나는 그 머리맡에서 절로 모인 5원 돈을 아무에게라도 좋으니 주어보고 싶었던 것이다. 그뿐이다. 그러나 그것도 내 잘못이라면 나는 그렇게 알겠다. 나는 후회하고 있지 않나?\n",
    "\n",
    "내가 그 5원 돈을 써버릴 수가 있었던들 나는 자정 안에 집에 돌아올 수 없었을 것이다. 그러나 거리는 너무 복잡하였고 사람은 너무도 들끓었다. 나는 어느 사람을 붙들고 그 5원 돈을 내주어야 할지 갈피를 잡을 수가 없었다. 그러는 동안에 나는 여지없이 피곤해 버리고 말았던 것이다.\n",
    "\n",
    "나는 무엇보다도 좀 쉬고 싶었다. 눕고 싶었다. 그래서 나는 하는 수 없이 집으로 돌아온 것이다. 내 짐작 같아서는 밤이 어지간히 늦은 줄만 알았는데 그것이 불행히도 자정 전이었다는 것은 참 안된 일이다. 미안한 일이다. 나는 얼마든지 사죄하여도 좋다. 그러나 종시 아내의 오해를 풀지 못하였다 하면 내가 이렇게까지 사죄하는 보람은 그럼 어디 있나? 한심하였다.\n",
    "\n",
    "한 시간 동안을 나는 이렇게 초조하게 굴지 않으면 안되었다. 나는 이불을 홱 젖혀버리고 일어나서 장지를 열고 아내 방으로 비칠비칠 달려갔던 것이다. 내게는 거의 의식이라는 것이 없었다. 나는 아내 이불 위에 엎드려지면서 바지 포켓 속에서 그 돈 5원을 꺼내 아내 손에 쥐어 준 것을 간신히 기억할 뿐이다.\n",
    "\n",
    "\n",
    "\n",
    "이튿날 잠이 깨었을 때 나는 내 아내 방 아내 이불 속에 있었다. 이것이 이 33번지에서 살기 시작한 이래 내가 아내 방에서 잔 맨 처음이었다.\n",
    "\n",
    "해가 들창에 훨씬 높았는데 아내는 이미 외출하고 벌써 내 곁에 있지 않다. 아니! 아내는 엊저녁 내가 의식을 잃은 동안에 외출한 것인지도 모른다. 그러나 나는 그런 것을 조사하고 싶지 않았다. 다만 전신이 찌뿌두둑한 것이 손가락 하나 꼼짝할 힘조차 없었다. 책보보다 좀 작은 면적의 볕이 눈이 부시다. 그 속에서 수 없는 먼지가 흡사 미생물처럼 난무한다. 코가 칵 맥히는 것 같다.\n",
    "\n",
    "나는 다시 눈을 감고 이불을 폭 뒤집어쓰고 낮잠을 자기에 착수하였다. 그러나 코를 스치는 아내의 체취는 꽤 도발적이었다. 나는 몸을 여러 번 비비 꼬면서 아내의 화장대에 늘어선 고 가지각색 화장품 병들과 고 병들의 마개를 뽑았을 때 풍기는 내음새를 더듬느라고 좀처럼 잠은 들지 않는 것을 나는 어찌하는 수도 없었다.\n",
    "\n",
    "견디다 못하여 나는 그만 이불을 걷어차고 벌떡 일어나서 내 방으로 갔다. 내 방에는 다 식어빠진 내 끼니가 가즈런히 놓여있는 것이다. 아내는 내 모이를 여기다 주고 나간 것이다. 나는 우선 배가 고팠다. 한 숟갈을 입에 떠넣었을 때 그 촉감은 참 너무도 냉회와 같이 써늘하였다. 나는 숟갈을 놓고 내 이불 속으로 들어갔다. 하룻밤을 비어때린 내 이부자리는 여전히 반갑게 나를 맞아준다. 나는 내 이불을 뒤집어쓰고 이번에는 참 늘어지게 한잠 잤다. 잘 - \n",
    "\n",
    "내가 잠을 깨인 것은 전등이 켜진 뒤다. 그러나 아내는 아직도 돌아오지 않았나 보다. 아니! 들어왔다 또 나갔는지도 알 수 없다. 그러나 그런 것을 상고하여 무엇하나?\n",
    "\n",
    "정신이 한결 난다. 나는 지난 밤 일을 생각해 보았다. 그 돈 5원을 아내 손에 쥐어주고 넘어졌을 때에 느낄 수 있었던 쾌감을 나는 무엇이라고 설명할 수가 없었다. 그러니 내객들이 내 아내에게 돈 놓고 가는 심리며 내 아내가 내게 돈 놓고 가는 심리의 비밀을 나는 알아낸 것 같아서 여간 즐거운 것이 아니다. 나는 속으로 빙그레 웃어보았다. 이런 것을 모르고 오늘까지 지내온 내 자신이 어떻게 우스꽝스러워 보이는지 몰랐다. 나는 어깨춤이 났다.\n",
    "\n",
    "따라서 나는 또 오늘 밤에도 외출하고 싶었다. 그러나 돈이 없다. 나는 엊저녁에 그 돈 5원을 한꺼번에 아내에게 주어 버린 것을 후회하였다. 또 고 벙어리를 변소에 갖다 처넣어 버린 것도 후회하였다. 나는 실없이 실망하면서 습관처럼 그 돈 5원이 들어있던 내 바지 포켓에 손을 넣어 한번 휘둘러보았다. 뜻밖에도 내 손에 쥐어지는 것이 있었다. 2원밖에 없다. 그러나 많아야 맛은 아니다. 얼마간이고 있으면 된다. 나는 그만한 것이 여간 고마운 것이 아니었다.\n",
    "\n",
    "나는 기운을 얻었다. 나는 그 단벌 다 떨어진 코르덴 양복을 걸치고 배고픈 것도 주제 사나운 것도 다 잊어버리고 활개짓을 하면서 또 거리로 나섰다. 나서면서 나는 제발 시간이 화살 닫듯 해서 자정이 어서 홱 지나버렸으면 하고 조바심을 태웠다. 아내에게 돈을 주고 아내 방에서 자보는 것은 어디까지든지 좋았지만 만일 잘못해서 자정 전에 집에 들어갔다가 아내의 눈총을 맞는 것은 그것은 여간 무서운 일이 아니었다. 나는 저물도록 길가 시계를 들여다보고 들여다보고 하면서 또 지향없이 거리를 방황하였다. 그러나 이날은 좀처럼 피곤하지는 않았다. 다만 시간이 너무 더디게 가는 것만 같아서 안타까왔다.\n",
    "\n",
    "경성역 시계가 확실히 자정이 지난 것을 본 뒤에 나는 집을 향하였다. 그날은 그 일각대문에서 아내와 아내의 남자가 이야기하고 섰는 것을 만났다. 나는 모른 체하고 두 사람 곁을 지나서 내 방으로 들어갔다. 뒤이어 아내도 들어왔다. 와서는 이 밤중에 평생 안하던 쓰레질을 하는 것이다. 조금 있다가 아내가 눕는 기척을 엿듣자마자 나는 또 장지를 열고 아내 방으로 가서 그 돈 2원을 아내 손에 덥썩 쥐어주고 그리고 - 하여간 그 2원을 오늘 밤에도 쓰지 않고 도로 가져온 것이 참 이상하다는 듯이 아내는 내 얼굴을 몇 번이고 엿보고 - 아내는 드디어 아무 말도 없이 나를 자기 방에 재워주었다. 나는 이 기쁨을 세상의 무엇과도 바꾸고 싶지는 않았다. 나는 편히 잘 잤다.\n",
    "\n",
    "이튿날도 내가 잠이 깨었을 때는 아내는 보이지 않았다. 나는 또 내 방으로 가서 피곤한 몸이 낮잠을 잤다.\n",
    "\n",
    "내가 아내에게 흔들려 깨었을 때는 역시 불이 들어온 뒤였다. 아내는 자기 방으로 나를 오라는 것이다. 이런 일은 또 처음이다. 아내는 끊임없이 얼굴에 미소를 띠우고 내 팔을 이끄는 것이다. 나는 이런 아내의 태도 이면에 엔간치 않은 음모가 숨어있지나 않은가 하고 저으기 불안을 느끼지 않을 수 없었다.\n",
    "\n",
    "나는 아내의 하자는 대로 아내 방으로 끌려갔다. 아내 방에는 저녁 밥상이 조촐하게 차려져 있는 것이다. 생각하여보면 나는 이틀을 굶었다. 나는 지금 배고픈 것까지도 긴가민가 잊어버리고 어름어름 하던 차다.\n",
    "\n",
    "나는 생각하였다. 이 최후의 만찬을 먹고 나자마자 벼락이 내려도 나는 차라리 후회하지 않을 것을. 사실 나는 인간 세상이 너무나 심심해서 못 견디겠던 차다. 모든 일이 성가시고 귀찮으나 그러나 불의의 재난이라는 것은 즐거웁다. 나는 마음을 턱 놓고 조용히 아내와 마주 이 해괴한 저녁밥을 먹었다. 우리 부부는 이야기하는 법이 없었다. 밥을 먹은 뒤에도 나는 말이 없이 그냥 부스스 일어나서 내 방으로 건너가 버렸다. 아내는 나를 붙잡지 않았다. 나는 벽에 기대어 앉아서 담배를 한 대 피워 물고 그리고 벼락이 떨어질 테거든 어서 떨어져라 하고 기다렸다.\n",
    "\n",
    "오 분! 십 분! - \n",
    "\n",
    "그러나 벼락은 내리지 않았다. 긴장이 차츰 늘어지기 시작한다. 나는 어느덧 오늘 밤에도 외출할 것을 생각하고 돈이 있었으면 하고 생각하고 있었다.\n",
    "\n",
    "그러나 돈은 확실히 없다. 오늘은 외출하여도 나중에 올 무슨 기쁨이 있나. 나는 앞이 그냥 아뜩하였다. 나는 화가 나서 이불을 뒤집어쓰고 이리 뒹굴 저리 뒹굴 굴렀다. 금시 먹은 밥이 목으로 자꾸 치밀어 올라온다. 메스꺼웠다.\n",
    "\n",
    "하늘에서 얼마라도 좋으니 왜 지폐가 소낙비처럼 퍼붓지 않나, 그것이 그저 한없이 야속하고 슬펐다. 나는 이렇게밖에 돈을 구하는 아무런 방법도 알지는 못했다. 나는 이불 속에서 좀 울었나 보다. 돈이 왜 없느냐면서...\n",
    "\n",
    "그랬더니 아내가 또 내 방에를 왔다. 나는 깜짝 놀라 아마 인제서야 벼락이 내리려나 보다 하고 숨을 죽이고 두꺼비 모양으로 엎디어 있었다. 그러나 떨어진 입을 새어 나오는 아내의 말소리는 참 부드러웠다. 정다왔다. 아내는 내가 왜 우는지를 안다는 것이다. 돈이 없어서 그러는 게 아니냔다. 나는 실없이 깜짝 놀랬다. 어떻게 저렇게 사람의 속을 환하게 들여다보는구 해서 나는 한편으로 슬그머니 겁도 안 나는 것은 아니었으나 저렇게 말하는 것을 보면 아마 내게 돈을 줄 생각이 있나보다, 만일 그렇다면 오죽이나 좋은 일일까?\n",
    "\n",
    "나는 이불 속에 뚤뚤 말린 채 고개도 들지 않고 아내의 다음 거동을 기다리고 있으니까, 엣소 하고 내 머리맡에 내려뜨리는 것은 그 가뿐한 음향으로 보아 지폐에 틀림없었다. 그리고 내 귀에다 대고 오늘을랑 어제보다도 좀더 늦게 들어와도 좋다고 속삭이는 것이다. 그것은 어렵지 않다. 우선 그 돈이 무엇보다도 고맙고 반가왔다.\n",
    "\n",
    "어쨌든 나섰다. 나는 좀 야맹증이다. 그래서 될 수 있는 대로 밝은 거리로 골라서 돌아다니기로 했다. 그리고는 경성역 일이등 대합실 한 곁 티이루움에를 들렀다. 그것은 내게는 큰 발견이었다.\n",
    "거기는 우선 아무도 아는 사람이 안 온다. 설사 왔다가도 곧들 가니까 좋다. 나는 날마다 여기 와서 시간을 보내리라 속으로 생각하여 두었다.\n",
    "\n",
    "제일 여기 시계가 어느 시계보다도 정확하리라는 것이 좋았다. 섣불리 서투른 시계를 보고 그것을 믿고 시간 전에 집에 돌아갔다가 큰코를 다쳐서는 안된다.\n",
    "\n",
    "나는 한 복스에 아무것도 없는 것과 마주 앉아서 잘 끓은 커피를 마셨다. 총총한 가운데 여객들은 그래도 한잔 커피가 즐거운가보다. 얼른 얼른 마시고 무얼 좀 생각하는 것같이 담벼락도 좀 쳐다보고 하다가 곧 나가버린다. 서글프다. 그러나 내게는 이 서글픈 분위기가 거리의 티이루움들의 그 거추장스러운 분위기보다는 절실하고 마음에 들었다. 이따금 들리는 날카로운 혹은 우렁찬 기적소리가 모짜르트보다도 더 가깝다. 나는 메뉴에 적힌 몇 가지 안되는 음식 이름을 치 읽고 내리 읽고 여러 번 읽었다. 그것들은 아물아물한 것이 어딘가 내 어렸을 때 동무들 이름과 비슷한 데가 있었다.\n",
    "\n",
    "거기서 얼마나 내가 오래 앉았는지 정신이 오락가락하는 중에 객이 슬며시 뜸해 지면서 이 구석 저 구석 걷어 치우기 시작하는 것을 보면 아마 닫을 시간이 된 모양이다. 열 한 시가 좀 지났구나 여기도 결코 내 안주의 곳은 아니구나, 어디 가서 자정을 넘길까, 두루 걱정을 하면서 나는 밖으로 나섰다. 비가 온다. 빗발이 제법 굵은 것이 우비도 우산도 없는 나를 고생을 시킬 작정이다. 그렇다고 이런 괴이한 풍모를 차리고 이 홀에서 어물어물 하는 수도 없고 에이 비를 맞으면 맞았지 하고 나는 그냥 나서버렸다.\n",
    "\n",
    "대단히 선선해서 견딜 수가 없다. 코르덴 옷이 젖기 시작하더니 나중에는 속속들이 스며들면서 처근거린다. 비를 맞아 가면서도 견딜 수 있는 데까지 거리를 돌아다녀서 시간을 보내려 하였으나 인제는 선선해서 이 이상은 더 견딜 수가 없다. 오한이 자꾸 일어나면서 이가 딱딱 맞부딪는다.\n",
    "\n",
    "나는 걸음을 재치면서 생각하였다. 오늘 같은 궂은 날도 아내에게 내객이 있을라구. 없겠지 하는 생각이 드는 것이다. 집으로 가야겠다. 아내에게 불행히 내객이 있거든 내 사정을 하리라. 사정을 하면 이렇게 비가 오는 것을 눈으로 보고 알아주겠지.\n",
    "\n",
    "부리나케 와 보니까 그러나 아내에게는 내객이 있었다. 나는 너무 춥고 척척해서 얼떨김에 노크하는 것을 잊었다. 그래서 나는 보면 아내가 좀 덜 좋아할 것을 그만 보았다. 나는 감발자국 같은 발자국을 내면서 덤벙덤벙 아내 방을 디디고 그리고 내 방으로 가서 쭉 빠진 옷을 활활 벗어버리고 이불을 뒤썼다. 덜덜덜덜 떨린다. 오한이 점점 더 심해 들어온다. 여전 땅이 꺼져들어가는 것만 같았다. 나는 그만 의식을 잃어버리고 말았다.\n",
    "\n",
    "이튿날 내가 눈을 떴을 때 아내는 내 머리맡에 앉아서 제법 근심스러운 얼굴이다. 나는 감기가 들었다. 여전히 으스스 춥고 또 골치가 아프고 입에 군침이 도는 것이 씁쓸하면서 다리 팔이 척 늘어져서 노곤하다.\n",
    "\n",
    "아내는 내 머리를 쓱 짚어 보더니 약을 먹어야지 한다. 아내 손이 이마에 선뜩한 것을 보면 신열이 어지간한 모양인데 약을 먹는다면 해열제를 먹어야지 하고 속 생각을 하자니까 아내는 따뜻한 물에 하얀 정제약 네 개를 준다. 이것을 먹고 한잠 폭 자고 나면 괜찮다는 것이다. 나는 널름 받아먹었다. 쌉싸름한 것이 짐작 같아서는 아마 아스피린인가 싶다. 나는 다시 이불을 쓰고 단번에 그냥 죽은 것처럼 잠이 들어 버렸다.\n",
    "\n",
    "나는 콧물을 훌쩍훌쩍하면서 여러 날을 앓았다. 앓는 동안에 끊이지 않고 그 정제약을 먹었다. 그러는 동안에 감기도 나았다. 그러나 입맛은 여전히 소태처럼 썼다.\n",
    "\n",
    "나는 차츰 또 외출하고 싶은 생각이 났다. 그러나 아내는 나더러 외출하지 말라고 이르는 것이다. 이 약을 날마다 먹고 그리고 가만히 누워 있으라는 것이다. 공연히 외출을 하다가 이렇게 감기가 들어서 저를 고생을 시키는 게 아니냔다. 그도 그렇다. 그럼 외출을 하지 않겠다고 맹서하고 그 약을 연복하여 몸을 좀 보해 보리라고 나는 생각하였다.\n",
    "\n",
    "나는 날마다 이불을 뒤집어쓰고 밤이나 낮이나 잤다. 유난스럽게 밤이나 낮이나 졸려서 견딜 수가 없는 것이다. 나는 이렇게 잠이 자꾸만 오는 것은 내가 훨씬 몸이 튼튼해진 증거라고 굳게 믿었다.\n",
    "\n",
    "나는 아마 한 달이나 이렇게 지냈나보다. 내 머리와 수염이 좀 너무 자라서 후틋해서 견딜 수가 없어서 내 거울을 좀 보리라고 아내가 외출한 틈을 타서 나는 아내 방으로 가서 아내의 화장대 앞에 앉아 보았다. 상당하다. 수염과 머리가 참 산란하였다. 오늘은 이발을 좀 하리라고 생각하고 겸사겸사 고 화장품 병들 마개를 뽑고 이것저것 맡아 보았다. 한동안 잊어버렸던 향기 가운데서는 몸이 배배 꼬일 것 같은 체취가 전해 나왔다. 나는 아내의 이름을 속으로만 한 번 불러 보았다. <연심이·> 하고...\n",
    "\n",
    "오래간만에 돋보기 장난도 하였다. 거울 장난도 하였다. 창에 든 볕이 여간 따뜻한 것이 아니었다. 생각하면 5월이 아니냐.\n",
    "\n",
    "나는 커다랗게 기지개를 한번 켜보고 아내 베개를 내려 베고 벌떡 자빠져서는 이렇게도 편안하고 즐거운 세월을 하느님께 흠씬 자랑하여 주고 싶었다. 나는 참 세상의 아무것과도 교섭을 가지지 않는다. 하느님도 아마 나를 칭찬할 수도 처벌할 수도 없는 것 같다. 그러나 다음 순간 실로 세상에도 이상스러운 것이 눈에 띄었다. 그것은 최면약 아달린갑이었다. 나는 그것을 아내의 화장대 밑에서 발견하고 그것이 흡사 아스피린처럼 생겼다고 느꼈다. 나는 그것을 열어 보았다. 똑 네 개가 비었다.\n",
    "\n",
    "나는 오늘 아침에 네 개의 아스피린을 먹은 것을 기억하고 있었다. 나는 잤다. 어제도 그제도 그끄제도 - 나는 졸려서 견딜 수가 없었다. 나는 감기가 다 나았는데도 아내는 내게 아스피린을 주었다. 내가 잠이 든 동안에 이웃에 불이 난 일이 있다. 그때에도 나는 자느라고 몰랐다. 이렇게 나는 잤다. 나는 아스피린으로 알고 그럼 한 달 동안을 두고 아달린을 먹어온 것이다. 이것은 좀 너무 심하다.\n",
    "\n",
    "\n",
    "\n",
    " \n",
    "\n",
    "별안간 아뜩하더니 하마터라면 나는 까무러칠 뻔하였다. 나는 그 아달린을 주머니에 넣고 집을 나섰다. 그리고 산을 찾아 올라갔다. 인간 세상에 아무것도 보기가 싫었던 것이다. 걸으면서 나는 아무쪼록 아내에 관계되는 일은 생각하지 않도록 노력하였다. 길에서 까무러치기 쉬우니까다. 나는 어디라도 양지가 바른 자리를 하나 골라 자리를 잡아가지고 서서히 아내에 관하여서 연구할 작정이었다. 나는 길가에 한창 핀, 구경도 못한 진개나리꽃, 종달새, 돌멩이도 새끼를 까는 이야기, 이런 것만 생각하였다. 다행히 길가에서 나는 졸도하지 않았다.\n",
    "\n",
    "거기에는 벤치가 있었다. 나는 거기 정좌하고 그리고 그 아스피린과 아달린에 관하여 연구하였다. 그러나 머리가 도무지 혼란하여 생각이 체계를 이루지 않는다. 단 오 분이 못 가서 나는 그만 귀찮은 생각이 번쩍 들면서 심술이 났다. 나는 주머니에서 가지고 온 아달린을 꺼내 남은 여섯 개를 한꺼번에 질겅질겅 씹어 먹어버렸다. 맛이 익살맞다. 그리고나서 나는 그 벤치 위에 가로 기다랗게 누웠다. 무슨 생각으로 내가 그따위 짓을 했나? 알 수가 없다. 그저 그러고 싶었다. 나는 게서 그냥 깊이 잠이 들었다. 잠결에도 바위 틈을 흐르는 물소리가 졸졸 하고 귀에 언제까지나 어렴폿이 들려왔다.\n",
    "\n",
    "내가 잠을 깨었을 때는 날이 환히 밝은 뒤다. 나는 거기서 일주야를 잔 것이다. 풍경이 그냥 노오랗게 보인다. 그 속에서도 나는 번개처럼 아스피린과 아달린이 생각났다.\n",
    "\n",
    "아스피린, 아달린, 아스피린, 아달린, 맑스, 말사스, 마도로스, 아스피린, 아달린.\n",
    "\n",
    "아내는 한 달 동안 아달린을 아스피린이라고 속이고 내게 먹였다. 그것은 아내 방에서 아달린갑이 발견된 것으로 미루어 증거가 너무나 확실하다.\n",
    "\n",
    "무슨 목적으로 아내는 나를 밤이나 낮이나 재웠어야 됐나?\n",
    "\n",
    "나를 밤이나 낮이나 재워 놓고 그리고 아내는 내가 자는 동안에 무슨 짓을 했나?\n",
    "\n",
    "나를 조금씩 조금씩 죽이려던 것일까?\n",
    "\n",
    "그러나 또 생각하여 보면 내가 한 달을 두고 먹어온 것은 아스피린이었는지도 모른다. 아내는 무슨 근심되는 일이 있어서 밤이면 잠이 잘 오지 않아서 정작 아내가 아달린을 사용한 것이나 아닌지, 그렇다면 나는 참 미안하다. 나는 아내에게 이렇게 큰 의혹을 가졌다는 것이 참 안됐다.\n",
    "\n",
    "나는 그래서 부리나케 거기서 내려왔다. 아랫도리가 홰홰 내어저이면서 어찔어찔한 것을 나는 겨우 집을 향하여 걸었다. 여덟 시 가까이였다.\n",
    "\n",
    "나는 내 잘못된 생각을 죄다 일러바치고 아내에게 사죄하려는 것이다. 나는 너무 급해서 그만 또 말을 잊어버렸다.\n",
    "\n",
    "그랬더니 이건 참 너무 큰일났다. 나는 내 눈으로는 절대로 보아서 안될 것을 그만 딱 보아버리고 만 것이다. 나는 얼떨결에 그만 냉큼 미닫이를 닫고 그리고 현기증이 나는 것을 진정시키느라고 잠깐 고개를 숙이고 눈을 감고 기둥을 짚고 섰자니까 일 초 여유도 없이 홱 미닫이가 다시 열리더니 매무새를 풀어 헤친 아내가 불쑥 나오면서 내 멱살을 잡는 것이다.\n",
    "\n",
    "나는 그만 어지러워서 게서 그냥 나둥그러졌다. 그랬더니 아내는 넘어진 내 위에 덮치면서 내 살을 함부로 물어뜯는 것이다. 아파 죽겠다. 나는 사실 반항할 의사도 힘도 없어서 그냥 넙죽 엎디어 있으면서 어떻게 되나 보고 있자니까 뒤이어 남자가 나오는 것 같더니 아내를 한아름에 덥썩 안아 가지고 방으로 들어가는 것이다. 아내는 아무 말 없이 다소곳이 그렇게 안겨 들어가는 것이 내 눈에 여간 미운 것이 아니다. 밉다.\n",
    "\n",
    "아내는 너 밤새워 가면서 도둑질하러 다니느냐, 계집질하러 다니느냐고 발악이다. 이것은 참 너무 억울하다. 나는 어안이 벙벙하여 도무지 입이 벌어지지를 않았다.\n",
    "\n",
    "너는 그야말로 나를 살해하려던 것이 아니냐고 소리를 한번 꽥 질러 보고도 싶었으나 그런 긴가민가한 소리를 섣불리 입 밖에 내었다가는 무슨 화를 볼는지 알 수 있나.\n",
    "\n",
    "차라리 억울하지만 잠자코 있는 것이 우선 상책인 듯싶이 생각이 들길래 나는 이것은 또 무슨 생각으로 그랬는지 모르지만 툭툭 털고 일어나서 내 바지 포켓 속에 남은 돈 몇 원 몇 십 전을 가만히 꺼내서는 몰래 미닫이를 열고 살며시 문지방 밑에다 놓고 나서는 나는 그냥 줄달음질을 쳐서 나와버렸다.\n",
    "\n",
    "여러 번 자동차에 치일 뻔하면서 나는 그래도 경성역을 찾아갔다. 빈 자리와 마주 앉아서 이 쓰디쓴 입맛을 거두기 위하여 무엇으로나 입가심을 하고 싶었다.\n",
    "\n",
    "커피. 좋다. 그러나 경성역 홀에 한걸음을 들여놓았을 때 나는 내 주머니에는 돈이 한푼도 없는 것을 그것을 깜박 잊었던 것을 깨달았다. 또 아뜩하였다. 나는 어디선가 그저 맥없이 머뭇머뭇 하면서 어쩔 줄을 모를 뿐이었다. 얼빠진 사람처럼 그저 이리 갔다 저리 갔다 하면서...\n",
    "\n",
    "나는 어디로 어디로 들입다 쏘다녔는지 하나도 모른다. 다만 몇 시간 후에 내가 미쓰꼬시 옥상에 있는 것을 깨달았을 때는 거의 대낮이었다.\n",
    "\n",
    "나는 거기 아무 데나 주저앉아서 내 자라온 스물 여섯 해를 회고하여 보았다. 몽롱한 기억 속에서는 이렇다는 아무 제목도 불그러져 나오지 않았다.\n",
    "\n",
    "나는 또 내 자신에게 물어보았다. 너는 인생에 무슨 욕심이 있느냐고. 그러나 있다고도 없다고도, 그런 대답은 하기가 싫었다. 나는 거의 나 자신의 존재를 인식하기조차도 어려웠다.\n",
    "\n",
    "허리를 굽혀서 나는 그저 금붕어나 들여다보고 있었다. 금붕어는 참 잘들도 생겼다. 작은 놈은 작은 놈대로 큰 놈은 큰 놈대로 다 - 싱싱하니 보기 좋았다. 내려비치는 5월 햇살에 금붕어들은 그릇 바탕에 그림자를 내려뜨렸다. 지느러미는 하늘하늘 손수건을 흔드는 흉내를 낸다. 나는 이 지느러미 수효를 세어 보기도 하면서 굽힌 허리를 좀처럼 펴지 않았다. 등어리가 따뜻하다.\n",
    "\n",
    "나는 또 회탁의 거리를 내려다보았다. 거기서는 피곤한 생활이 똑 금붕어 지느러미처럼 흐늑흐늑 허비적거렸다. 눈에 보이지 않는 끈적끈적한 줄에 엉켜서 헤어나지들을 못한다. 나는 피로와 공복 때문에 무너져 들어가는 몸뚱이를 끌고 그 회탁의 거리 속으로 섞여 들어가지 않는 수도 없다 생각하였다.\n",
    "\n",
    "나서서 나는 또 문득 생각하여 보았다. 이 발길이 지금 어디로 향하여 가는 것인가를...\n",
    "\n",
    "그때 내 눈앞에는 아내의 모가지가 벼락처럼 내려 떨어졌다. 아스피린과 아달린.\n",
    "\n",
    "우리들은 서로 오해하고 있느리라. 설마 아내가 아스피린 대신에 아달린의 정량을 나에게 먹여왔을까? 나는 그것을 믿을 수는 없다. 아내가 대체 그럴 까닭이 없을 것이니, 그러면 나는 날밤을 새면서 도둑질을 계집질을 하였나? 정말이지 아니다.\n",
    "\n",
    "우리 부부는 숙명적으로 발이 맞지 않는 절름발이인 것이다. 내가 아내나 제 거동에 로직을 붙일 필요는 없다. 변해할 필요도 없다. 사실은 사실대로 오해는 오해대로 그저 끝없이 발을 절뚝거리면서 세상을 걸어가면 되는 것이다. 그렇지 않을까?\n",
    "\n",
    "그러나 나는 이 발길이 아내에게로 돌아가야 옳은가 이것만은 분간하기가 좀 어려웠다. 가야 하나? 그럼 어디로 가나?\n",
    "\n",
    "이때 뚜우하고 정오 싸이렌이 울었다. 사람들은 모두 네 활개를 펴고 닭처럼 푸드덕거리는 것 같고 온갖 유리와 강철과 대리석과 지폐와 잉크가 부글부글 끓고 수선을 떨고 하는 것 같은 찰나, 그야말로 현란을 극한 정오다.\n",
    "\n",
    "나는 불현듯이 겨드랑이가 가렵다. 아하, 그것은 내 인공의 날개가 돋았던 자국이다. 오늘은 없는 이 날개, 머리 속에서는 희망과 야심의 말소된 페이지가 딕셔너리 넘어가듯 번뜩였다.\n",
    "\n",
    "나는 걷던 걸음을 멈추고 그리고 어디 한번 이렇게 외쳐보고 싶었다.\n",
    "\n",
    "날개야 다시 돋아라.\n",
    "\n",
    "날자. 날자. 날자. 한번만 더 날자꾸나.\n",
    "\n",
    "한번만 더 날아 보자꾸나.\n",
    "\n",
    "<끝>\n",
    "\n",
    "\n",
    "\n",
    "\n",
    "\n",
    "'''"
   ]
  },
  {
   "cell_type": "code",
   "execution_count": 69,
   "id": "2e019ac3-f0fe-4c2a-a913-4d30e833e85e",
   "metadata": {},
   "outputs": [
    {
     "name": "stdout",
     "output_type": "stream",
     "text": [
      "['p', 'y', 't', 'h', 'o', 'n']\n",
      "['h', 'n', 'o', 'p', 't', 'y']\n",
      "['y', 't', 'p', 'o', 'n', 'h']\n"
     ]
    }
   ],
   "source": [
    "ch_list = ['p', 'y', 't', 'h', 'o', 'n']\n",
    "print(ch_list)\n",
    "ch_list.sort()\n",
    "print(ch_list)\n",
    "ch_list.sort(reverse=True)\n",
    "print(ch_list)"
   ]
  },
  {
   "cell_type": "code",
   "execution_count": 62,
   "id": "5b7e4891-81eb-4995-ad2c-9680f988d09c",
   "metadata": {},
   "outputs": [],
   "source": [
    "person = [\n",
    " 'ggoreb',\n",
    " 20,\n",
    " ['서울', '관악구', '신림동'],\n",
    " ['대전', '서구', '둔산동']\n",
    "]"
   ]
  },
  {
   "cell_type": "code",
   "execution_count": 65,
   "id": "1890167e-f670-4a5f-8d7a-ba0904f75203",
   "metadata": {},
   "outputs": [
    {
     "data": {
      "text/plain": [
       "('ggoreb', '신림동', '둔산동')"
      ]
     },
     "execution_count": 65,
     "metadata": {},
     "output_type": "execute_result"
    }
   ],
   "source": [
    "person[0], person[2][-1], person[-1][2]"
   ]
  },
  {
   "cell_type": "code",
   "execution_count": 66,
   "id": "54a5103b-dfd6-47ee-b7a3-38aa51096cd2",
   "metadata": {},
   "outputs": [
    {
     "name": "stdout",
     "output_type": "stream",
     "text": [
      "[ggoreb]신림동/둔산동\n"
     ]
    }
   ],
   "source": [
    "print(  '[%s]%s/%s' % (person[0], person[2][-1], person[-1][2])   )"
   ]
  },
  {
   "cell_type": "code",
   "execution_count": 59,
   "id": "286333a2-401c-4749-95f0-7459a442aa7b",
   "metadata": {},
   "outputs": [
    {
     "data": {
      "text/plain": [
       "1"
      ]
     },
     "execution_count": 59,
     "metadata": {},
     "output_type": "execute_result"
    }
   ],
   "source": [
    "total = 1\n",
    "total"
   ]
  },
  {
   "cell_type": "code",
   "execution_count": 61,
   "id": "e2a1f8e4-5faa-4a39-8b1a-4ce9a98384a6",
   "metadata": {},
   "outputs": [
    {
     "data": {
      "text/plain": [
       "3"
      ]
     },
     "execution_count": 61,
     "metadata": {},
     "output_type": "execute_result"
    }
   ],
   "source": [
    "total = total + 2\n",
    "total"
   ]
  },
  {
   "cell_type": "code",
   "execution_count": 55,
   "id": "c79bad05-9448-4bb5-b077-907f57023e0b",
   "metadata": {
    "jupyter": {
     "source_hidden": true
    },
    "tags": []
   },
   "outputs": [],
   "source": [
    " list = ['a', 'b', 'c', [1, 2, 3], '가', '나', '다']"
   ]
  },
  {
   "cell_type": "code",
   "execution_count": 58,
   "id": "f5eba1ea-a8ad-48ea-8269-2049ad4d9861",
   "metadata": {},
   "outputs": [
    {
     "data": {
      "text/plain": [
       "3"
      ]
     },
     "execution_count": 58,
     "metadata": {},
     "output_type": "execute_result"
    }
   ],
   "source": [
    "li = list[3]\n",
    "li[-1]"
   ]
  },
  {
   "cell_type": "code",
   "execution_count": 57,
   "id": "d398d005-3130-46a0-a624-d9a335df775d",
   "metadata": {},
   "outputs": [
    {
     "data": {
      "text/plain": [
       "3"
      ]
     },
     "execution_count": 57,
     "metadata": {},
     "output_type": "execute_result"
    }
   ],
   "source": [
    "list[3][-1]"
   ]
  },
  {
   "cell_type": "code",
   "execution_count": 54,
   "id": "bd172709-7b5d-4702-ab0c-6c26a0c7da39",
   "metadata": {},
   "outputs": [
    {
     "data": {
      "text/plain": [
       "['Life', 'is', 'too', 'short,', 'You', 'need', 'Python']"
      ]
     },
     "execution_count": 54,
     "metadata": {},
     "output_type": "execute_result"
    }
   ],
   "source": [
    "s = 'Life is too short, You need Python'\n",
    "array = s.split(' ')\n",
    "array"
   ]
  },
  {
   "cell_type": "code",
   "execution_count": 52,
   "id": "5bd4673b-50de-4f2e-9ad1-07480b0297dc",
   "metadata": {},
   "outputs": [
    {
     "data": {
      "text/plain": [
       "'short, You need Python'"
      ]
     },
     "execution_count": 52,
     "metadata": {},
     "output_type": "execute_result"
    }
   ],
   "source": [
    "s = 'Life is too short, You need Python'\n",
    "index = s.find('short')\n",
    "s[index:]"
   ]
  },
  {
   "cell_type": "code",
   "execution_count": 49,
   "id": "74a4a662-6abe-42fc-9947-e0a69c086749",
   "metadata": {},
   "outputs": [
    {
     "name": "stdout",
     "output_type": "stream",
     "text": [
      "\"Life\" is too short, You need 'Python'\n",
      "\"Life\" is too short, You need 'Python'\n"
     ]
    }
   ],
   "source": [
    "s = ' \"Life\" is too short, You need \\'Python\\'  '\n",
    "s = '\"Life\" is too short, You need ' + \"'Python'\"\n",
    "print(s)\n",
    "print(s)"
   ]
  },
  {
   "cell_type": "code",
   "execution_count": 45,
   "id": "29ee3b04-632a-4dff-b52f-dc48348d1ef0",
   "metadata": {},
   "outputs": [
    {
     "name": "stdout",
     "output_type": "stream",
     "text": [
      "aa\n",
      "bb\n"
     ]
    }
   ],
   "source": [
    "print('aa\\nbb')"
   ]
  },
  {
   "cell_type": "code",
   "execution_count": 44,
   "id": "253b7faf-0869-4075-815a-ec23ed7078ba",
   "metadata": {},
   "outputs": [
    {
     "name": "stdout",
     "output_type": "stream",
     "text": [
      "aaaa\n"
     ]
    }
   ],
   "source": [
    "print('aaaa')"
   ]
  },
  {
   "cell_type": "code",
   "execution_count": 43,
   "id": "2ebee7fb-b94c-4dda-a7db-0e7620fed14a",
   "metadata": {},
   "outputs": [
    {
     "data": {
      "text/plain": [
       "['__add__',\n",
       " '__class__',\n",
       " '__class_getitem__',\n",
       " '__contains__',\n",
       " '__delattr__',\n",
       " '__delitem__',\n",
       " '__dir__',\n",
       " '__doc__',\n",
       " '__eq__',\n",
       " '__format__',\n",
       " '__ge__',\n",
       " '__getattribute__',\n",
       " '__getitem__',\n",
       " '__gt__',\n",
       " '__hash__',\n",
       " '__iadd__',\n",
       " '__imul__',\n",
       " '__init__',\n",
       " '__init_subclass__',\n",
       " '__iter__',\n",
       " '__le__',\n",
       " '__len__',\n",
       " '__lt__',\n",
       " '__mul__',\n",
       " '__ne__',\n",
       " '__new__',\n",
       " '__reduce__',\n",
       " '__reduce_ex__',\n",
       " '__repr__',\n",
       " '__reversed__',\n",
       " '__rmul__',\n",
       " '__setattr__',\n",
       " '__setitem__',\n",
       " '__sizeof__',\n",
       " '__str__',\n",
       " '__subclasshook__',\n",
       " 'append',\n",
       " 'clear',\n",
       " 'copy',\n",
       " 'count',\n",
       " 'extend',\n",
       " 'index',\n",
       " 'insert',\n",
       " 'pop',\n",
       " 'remove',\n",
       " 'reverse',\n",
       " 'sort']"
      ]
     },
     "execution_count": 43,
     "metadata": {},
     "output_type": "execute_result"
    }
   ],
   "source": [
    "dir([])"
   ]
  },
  {
   "cell_type": "code",
   "execution_count": 42,
   "id": "82196fd6-0f3e-4a3e-ae4e-c63f33538a8e",
   "metadata": {
    "tags": []
   },
   "outputs": [
    {
     "data": {
      "text/plain": [
       "['__add__',\n",
       " '__class__',\n",
       " '__contains__',\n",
       " '__delattr__',\n",
       " '__dir__',\n",
       " '__doc__',\n",
       " '__eq__',\n",
       " '__format__',\n",
       " '__ge__',\n",
       " '__getattribute__',\n",
       " '__getitem__',\n",
       " '__getnewargs__',\n",
       " '__gt__',\n",
       " '__hash__',\n",
       " '__init__',\n",
       " '__init_subclass__',\n",
       " '__iter__',\n",
       " '__le__',\n",
       " '__len__',\n",
       " '__lt__',\n",
       " '__mod__',\n",
       " '__mul__',\n",
       " '__ne__',\n",
       " '__new__',\n",
       " '__reduce__',\n",
       " '__reduce_ex__',\n",
       " '__repr__',\n",
       " '__rmod__',\n",
       " '__rmul__',\n",
       " '__setattr__',\n",
       " '__sizeof__',\n",
       " '__str__',\n",
       " '__subclasshook__',\n",
       " 'capitalize',\n",
       " 'casefold',\n",
       " 'center',\n",
       " 'count',\n",
       " 'encode',\n",
       " 'endswith',\n",
       " 'expandtabs',\n",
       " 'find',\n",
       " 'format',\n",
       " 'format_map',\n",
       " 'index',\n",
       " 'isalnum',\n",
       " 'isalpha',\n",
       " 'isascii',\n",
       " 'isdecimal',\n",
       " 'isdigit',\n",
       " 'isidentifier',\n",
       " 'islower',\n",
       " 'isnumeric',\n",
       " 'isprintable',\n",
       " 'isspace',\n",
       " 'istitle',\n",
       " 'isupper',\n",
       " 'join',\n",
       " 'ljust',\n",
       " 'lower',\n",
       " 'lstrip',\n",
       " 'maketrans',\n",
       " 'partition',\n",
       " 'removeprefix',\n",
       " 'removesuffix',\n",
       " 'replace',\n",
       " 'rfind',\n",
       " 'rindex',\n",
       " 'rjust',\n",
       " 'rpartition',\n",
       " 'rsplit',\n",
       " 'rstrip',\n",
       " 'split',\n",
       " 'splitlines',\n",
       " 'startswith',\n",
       " 'strip',\n",
       " 'swapcase',\n",
       " 'title',\n",
       " 'translate',\n",
       " 'upper',\n",
       " 'zfill']"
      ]
     },
     "execution_count": 42,
     "metadata": {},
     "output_type": "execute_result"
    }
   ],
   "source": [
    "dir('')"
   ]
  },
  {
   "cell_type": "code",
   "execution_count": 37,
   "id": "28822062-1b8e-49d4-9767-754ff02f6880",
   "metadata": {},
   "outputs": [],
   "source": [
    "date = '2012 03 25'"
   ]
  },
  {
   "cell_type": "code",
   "execution_count": 40,
   "id": "da0f84dd-0998-48d8-b63a-3acb513f88c0",
   "metadata": {},
   "outputs": [
    {
     "data": {
      "text/plain": [
       "'2012-03-25'"
      ]
     },
     "execution_count": 40,
     "metadata": {},
     "output_type": "execute_result"
    }
   ],
   "source": [
    "date.replace(' ', '-')"
   ]
  },
  {
   "cell_type": "code",
   "execution_count": 41,
   "id": "63dc0957-8c05-4dbb-98b9-0143016b0b10",
   "metadata": {},
   "outputs": [
    {
     "data": {
      "text/plain": [
       "'2012-03-25'"
      ]
     },
     "execution_count": 41,
     "metadata": {},
     "output_type": "execute_result"
    }
   ],
   "source": [
    "year = date[0:4]\n",
    "month = date[5:7]\n",
    "day = date[-2:]\n",
    "result = '%s-%s-%s' % (year, month, day)\n",
    "result\n",
    "#result = year + '-' + month + '-' + day"
   ]
  },
  {
   "cell_type": "code",
   "execution_count": 39,
   "id": "b9a69e75-ccb8-4ae6-a1a1-8865077de24e",
   "metadata": {},
   "outputs": [
    {
     "data": {
      "text/plain": [
       "'2012-03-25'"
      ]
     },
     "execution_count": 39,
     "metadata": {},
     "output_type": "execute_result"
    }
   ],
   "source": [
    "result"
   ]
  },
  {
   "cell_type": "code",
   "execution_count": 34,
   "id": "b29359a2-c0d5-4820-a743-fb4e89b771b5",
   "metadata": {},
   "outputs": [
    {
     "data": {
      "text/plain": [
       "[1, 2, 3, 4]"
      ]
     },
     "execution_count": 34,
     "metadata": {},
     "output_type": "execute_result"
    }
   ],
   "source": [
    "list(  range( 1, 5 )  )"
   ]
  },
  {
   "cell_type": "code",
   "execution_count": 31,
   "id": "c88b092e-5fd9-48d9-94bb-215c4716914a",
   "metadata": {},
   "outputs": [],
   "source": [
    "str = 'Hello Python'"
   ]
  },
  {
   "cell_type": "code",
   "execution_count": 33,
   "id": "b79236b5-baa6-40da-bdaa-a0ea24416cd3",
   "metadata": {},
   "outputs": [
    {
     "data": {
      "text/plain": [
       "'P'"
      ]
     },
     "execution_count": 33,
     "metadata": {},
     "output_type": "execute_result"
    }
   ],
   "source": [
    "str[6:7]"
   ]
  },
  {
   "cell_type": "code",
   "execution_count": 36,
   "id": "e00f8fc2-0813-4ab7-9e7d-81de40da0e77",
   "metadata": {},
   "outputs": [
    {
     "data": {
      "text/plain": [
       "('Python', 'Python')"
      ]
     },
     "execution_count": 36,
     "metadata": {},
     "output_type": "execute_result"
    }
   ],
   "source": [
    "str[6:12], str[6: ]"
   ]
  },
  {
   "cell_type": "code",
   "execution_count": 29,
   "id": "6456547e-27d7-4d41-be84-680e65a84a2a",
   "metadata": {},
   "outputs": [
    {
     "data": {
      "text/plain": [
       "2"
      ]
     },
     "execution_count": 29,
     "metadata": {},
     "output_type": "execute_result"
    }
   ],
   "source": [
    "int('1') + 1"
   ]
  },
  {
   "cell_type": "code",
   "execution_count": 26,
   "id": "518bd6cf-5537-4dfc-8c44-88845851b74b",
   "metadata": {},
   "outputs": [
    {
     "data": {
      "text/plain": [
       "274877906944"
      ]
     },
     "execution_count": 26,
     "metadata": {},
     "output_type": "execute_result"
    }
   ],
   "source": [
    "2 ** 38"
   ]
  },
  {
   "cell_type": "code",
   "execution_count": 25,
   "id": "dc3268ac-4d34-4bb5-9050-d64e0957d363",
   "metadata": {},
   "outputs": [
    {
     "data": {
      "text/plain": [
       "27"
      ]
     },
     "execution_count": 25,
     "metadata": {},
     "output_type": "execute_result"
    }
   ],
   "source": [
    "0o33"
   ]
  },
  {
   "cell_type": "code",
   "execution_count": 24,
   "id": "500c4378-a74b-48bd-ad4c-db2d55caff7b",
   "metadata": {},
   "outputs": [
    {
     "data": {
      "text/plain": [
       "('H', 'O')"
      ]
     },
     "execution_count": 24,
     "metadata": {},
     "output_type": "execute_result"
    }
   ],
   "source": [
    "chr( 0x48 ), chr( 0x4F )"
   ]
  },
  {
   "cell_type": "code",
   "execution_count": 21,
   "id": "55aa080b-0806-4b2f-a995-9cd7ad0c4416",
   "metadata": {},
   "outputs": [
    {
     "data": {
      "text/plain": [
       "72"
      ]
     },
     "execution_count": 21,
     "metadata": {},
     "output_type": "execute_result"
    }
   ],
   "source": [
    "0x48"
   ]
  },
  {
   "cell_type": "code",
   "execution_count": 22,
   "id": "3eea7f29-02ed-4602-9817-7ecba034c772",
   "metadata": {},
   "outputs": [
    {
     "data": {
      "text/plain": [
       "'H'"
      ]
     },
     "execution_count": 22,
     "metadata": {},
     "output_type": "execute_result"
    }
   ],
   "source": [
    "chr( 72 )"
   ]
  },
  {
   "cell_type": "code",
   "execution_count": 18,
   "id": "e71c15b3-fddd-48b5-af54-fcbb5f64d284",
   "metadata": {},
   "outputs": [
    {
     "data": {
      "text/plain": [
       "255"
      ]
     },
     "execution_count": 18,
     "metadata": {},
     "output_type": "execute_result"
    }
   ],
   "source": [
    "0xff"
   ]
  },
  {
   "cell_type": "code",
   "execution_count": 15,
   "id": "4c7a0653-6bba-4b37-a067-2184c21320fc",
   "metadata": {},
   "outputs": [],
   "source": [
    "몫 = 23 // 5\n",
    "나머지 = 23 % 5"
   ]
  },
  {
   "cell_type": "code",
   "execution_count": 17,
   "id": "b383172e-a4fd-4d98-bd5c-d30158283941",
   "metadata": {},
   "outputs": [
    {
     "data": {
      "text/plain": [
       "4"
      ]
     },
     "execution_count": 17,
     "metadata": {},
     "output_type": "execute_result"
    }
   ],
   "source": [
    "몫"
   ]
  },
  {
   "cell_type": "code",
   "execution_count": 16,
   "id": "ee8a9410-57a7-413d-a150-bf8664887301",
   "metadata": {},
   "outputs": [
    {
     "name": "stdout",
     "output_type": "stream",
     "text": [
      "4\n"
     ]
    }
   ],
   "source": [
    "print(몫)"
   ]
  },
  {
   "cell_type": "code",
   "execution_count": null,
   "id": "c45cbfa2-ed39-454d-88fb-e7f226f9d097",
   "metadata": {},
   "outputs": [],
   "source": [
    "print('Hello')\n",
    "s = 'Hello'\n",
    "p = 'Python'\n",
    "리스트 = []\n",
    "s = 12122"
   ]
  },
  {
   "cell_type": "code",
   "execution_count": null,
   "id": "effb9622-1faa-43c7-afeb-851e3715b01a",
   "metadata": {},
   "outputs": [],
   "source": [
    "a = 10\n",
    "b = 20"
   ]
  },
  {
   "cell_type": "code",
   "execution_count": null,
   "id": "5fe54dd5-d319-4334-bfaa-5766553f976d",
   "metadata": {},
   "outputs": [],
   "source": [
    "a2 = 10, b2 = 20"
   ]
  },
  {
   "cell_type": "code",
   "execution_count": null,
   "id": "1520da4b-b02e-4c95-837e-8d4c62d80f69",
   "metadata": {},
   "outputs": [],
   "source": [
    "[ 2, 3, 4  ]    ( 2, 3, 4  )"
   ]
  },
  {
   "cell_type": "code",
   "execution_count": 12,
   "id": "60e83482-d3ab-4faa-8ba0-6135e0f7ffef",
   "metadata": {},
   "outputs": [
    {
     "name": "stdout",
     "output_type": "stream",
     "text": [
      "hello\n",
      "123\n"
     ]
    },
    {
     "data": {
      "text/plain": [
       "(None, None)"
      ]
     },
     "execution_count": 12,
     "metadata": {},
     "output_type": "execute_result"
    }
   ],
   "source": [
    "print('hello'), print(123)"
   ]
  },
  {
   "cell_type": "code",
   "execution_count": null,
   "id": "716b1294-aaca-4913-95f4-c9a3b95506c5",
   "metadata": {},
   "outputs": [],
   "source": []
  }
 ],
 "metadata": {
  "kernelspec": {
   "display_name": "Python 3",
   "language": "python",
   "name": "python3"
  },
  "language_info": {
   "codemirror_mode": {
    "name": "ipython",
    "version": 3
   },
   "file_extension": ".py",
   "mimetype": "text/x-python",
   "name": "python",
   "nbconvert_exporter": "python",
   "pygments_lexer": "ipython3",
   "version": "3.9.1"
  }
 },
 "nbformat": 4,
 "nbformat_minor": 5
}
