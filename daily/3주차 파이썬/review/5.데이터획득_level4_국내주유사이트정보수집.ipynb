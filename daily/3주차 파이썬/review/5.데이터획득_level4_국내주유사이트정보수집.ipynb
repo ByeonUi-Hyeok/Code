{
 "cells": [
  {
   "cell_type": "markdown",
   "id": "46985a36",
   "metadata": {},
   "source": [
    "# 개발 환경\n",
    "\n",
    "- selenium 모듈 설치\n",
    "- 로컬 PC에서 진행\n",
    "- 웹드라이버 필요 (여기서는 크롬으로 사용)\n",
    "    - 로컬 PC에서 설치된 크롬의 버전과 일치하는 웹드라이버 사용\n",
    "    - 크롬 > : > 크롬정보 > 버전 91.0.4472.77(공식 빌드) (64비트)\n",
    "    - 현 파일 옆에 위치 시킴\n",
    "        - ./chromedriver.exe"
   ]
  },
  {
   "cell_type": "code",
   "execution_count": 2,
   "id": "2810675f",
   "metadata": {},
   "outputs": [
    {
     "name": "stdout",
     "output_type": "stream",
     "text": [
      "Collecting selenium\n",
      "  Downloading selenium-3.141.0-py2.py3-none-any.whl (904 kB)\n",
      "Requirement already satisfied: urllib3 in c:\\users\\ad\\miniconda3\\lib\\site-packages (from selenium) (1.25.11)\n",
      "Installing collected packages: selenium\n",
      "Successfully installed selenium-3.141.0\n"
     ]
    }
   ],
   "source": [
    "!pip install selenium"
   ]
  },
  {
   "cell_type": "code",
   "execution_count": 9,
   "id": "948c7fd2",
   "metadata": {},
   "outputs": [],
   "source": [
    "# 1. 모듈 가져오기\n",
    "from selenium import webdriver as wd\n",
    "# 시간 모듈\n",
    "import time"
   ]
  },
  {
   "cell_type": "code",
   "execution_count": 5,
   "id": "8437bff4",
   "metadata": {},
   "outputs": [],
   "source": [
    "# path 내용을 오류가 나면 절대 경로로 지정한다\n",
    "'''\n",
    "driver = wd.Chrome( 'C://Users//ad//Desktop//py_projects//level4//chromedriver.exe')\n",
    "driver = wd.Chrome( 'chromedriver.exe' )\n",
    "'''\n",
    "# 2. 웹드라이버 가동\n",
    "driver = wd.Chrome( './chromedriver.exe' )"
   ]
  },
  {
   "cell_type": "code",
   "execution_count": 10,
   "id": "9b72ffb1",
   "metadata": {},
   "outputs": [],
   "source": [
    "# 3. 타겟 사이트 접속\n",
    "target_site = 'https://www.opinet.co.kr/searRgSelect.do'\n",
    "# 접속을 해보니 최소 2번은 요청해야 원하는 사이트로 진입이 된다\n",
    "driver.get( target_site )\n",
    "time.sleep( 2 )\n",
    "driver.get( target_site )"
   ]
  },
  {
   "cell_type": "markdown",
   "id": "9b518875",
   "metadata": {},
   "source": [
    "# 사이트 분석\n",
    "\n",
    "- 사이트에서 데이터를 입력/선택.. 수행하고 서버로 전송할때, 이 내용들을 모두 감싸고 있는 전송단위를 표현하는 태그는 form 이다\n",
    "- form으로 데이터를 보내는 행위를 폼전송이라고 한다\n",
    "- html이 서버와 통신하는 행위는 2가지 밖에 없다\n",
    "    - form 전송 -> 화면이 껌벅인다\n",
    "    - ajax 백그라운드 통신 -> 화면은 그대로 유지\n",
    "- 사용자의 선택을 요구하는 태그\n",
    "    - select\n",
    "        - 선택할 후보들은  option으로 표현\n",
    "        - 선택한 값은  option의 value가 세팅된다\n",
    "        - 특정 option의 value값을 select의 value로 세팅하면 <=선택\n",
    "        - 시도를 표현하는 select를 특정\n",
    "            - #SIDO_NM0"
   ]
  },
  {
   "cell_type": "code",
   "execution_count": 15,
   "id": "1157a0b3",
   "metadata": {},
   "outputs": [
    {
     "name": "stdout",
     "output_type": "stream",
     "text": [
      "\n",
      "서울특별시\n",
      "부산광역시\n"
     ]
    }
   ],
   "source": [
    "# 4-0. 시도 값을 세팅할 후보값을 추출한다\n",
    "#      ex)서울특별시, 부산광역시,...\n",
    "#      css selector : #SIDO_NM0 > option\n",
    "tmp = driver.find_elements_by_css_selector( '#SIDO_NM0 > option' )\n",
    "# 처음부터 3개까지만 샘플링 확인\n",
    "for option in tmp[:3]:\n",
    "    print( option.get_attribute('value') )\n",
    "    #break"
   ]
  },
  {
   "cell_type": "code",
   "execution_count": 18,
   "id": "81543f5d",
   "metadata": {},
   "outputs": [
    {
     "name": "stdout",
     "output_type": "stream",
     "text": [
      "[서울특별시]\n",
      "[부산광역시]\n",
      "[대구광역시]\n",
      "[인천광역시]\n",
      "[광주광역시]\n",
      "[대전광역시]\n",
      "[울산광역시]\n",
      "[세종특별자치시]\n",
      "[경기도]\n",
      "[강원도]\n",
      "[충청북도]\n",
      "[충청남도]\n",
      "[전라북도]\n",
      "[전라남도]\n",
      "[경상북도]\n",
      "[경상남도]\n",
      "[제주특별자치도]\n"
     ]
    }
   ],
   "source": [
    "# 5분\n",
    "# 실습 1 : value만 다 뽑아서 리스트에 담으시오(출력도 가능)\n",
    "# 실습 2 : value값이 없는것은 제외하고 담으시오\n",
    "# 조건식에 다음이 오면 무조건 False\n",
    "# 0, 0.0, '', [], {}, ()\n",
    "for option in tmp:\n",
    "    if option.get_attribute('value'):\n",
    "    #if len(option.get_attribute('value') ) > 0:\n",
    "        print( f\"[{option.get_attribute('value')}]\" )"
   ]
  },
  {
   "cell_type": "code",
   "execution_count": null,
   "id": "5a3d4935",
   "metadata": {},
   "outputs": [],
   "source": []
  },
  {
   "cell_type": "code",
   "execution_count": 21,
   "id": "cf062f23",
   "metadata": {},
   "outputs": [
    {
     "name": "stdout",
     "output_type": "stream",
     "text": [
      "['서울특별시', '부산광역시', '대구광역시', '인천광역시', '광주광역시', '대전광역시', '울산광역시', '세종특별자치시', '경기도', '강원도', '충청북도', '충청남도', '전라북도', '전라남도', '경상북도', '경상남도', '제주특별자치도']\n"
     ]
    }
   ],
   "source": [
    "sidos = [ option.get_attribute('value')  \n",
    "  for option in tmp \n",
    "  if option.get_attribute('value') ]\n",
    "\n",
    "print( sidos )"
   ]
  },
  {
   "cell_type": "code",
   "execution_count": 22,
   "id": "acd71209",
   "metadata": {},
   "outputs": [],
   "source": [
    "# 5초 간격으로, 시도를 바꿔가면서, 페이지를 로드하겟다\n",
    "for sido in sidos:\n",
    "    # 0. select 요소를 찾는다\n",
    "    sido_sel = driver.find_element_by_id('SIDO_NM0')\n",
    "    # 1. select 값을 해당 sido로 변경\n",
    "    sido_sel.send_keys( sido )\n",
    "    # 2. 5초 대기\n",
    "    time.sleep(5)\n",
    "\n",
    "# 4-1. 조작할 대상을 찾는다\n",
    "#    id를 직접 지칭함으로 css selector 표현을 사용하지 않는다\n"
   ]
  },
  {
   "cell_type": "code",
   "execution_count": 23,
   "id": "64550995",
   "metadata": {},
   "outputs": [
    {
     "data": {
      "text/plain": [
       "['부산광역시']"
      ]
     },
     "execution_count": 23,
     "metadata": {},
     "output_type": "execute_result"
    }
   ],
   "source": [
    "sidos[1:2]"
   ]
  },
  {
   "cell_type": "code",
   "execution_count": 24,
   "id": "bf69a220",
   "metadata": {},
   "outputs": [
    {
     "name": "stdout",
     "output_type": "stream",
     "text": [
      "['강서구', '금정구', '기장군', '남구', '동구', '동래구', '부산진구', '북구', '사상구', '사하구', '서구', '수영구', '연제구', '영도구', '중구', '해운대구']\n"
     ]
    }
   ],
   "source": [
    "# 실습 => 부산선택 ['부산광역시']> 부산진구 선택\n",
    "for sido in sidos[1:2]:    \n",
    "    # 시도 선택\n",
    "    sido_sel = driver.find_element_by_id('SIDO_NM0')\n",
    "    sido_sel.send_keys( sido )\n",
    "    # 5초 강제 대기 -> 사이트는 새로운 시군구로 세팅됬을것이다\n",
    "    time.sleep(5)\n",
    "    # 로드된 시군구 화면에서 value값들을 추출한다\n",
    "    # selector 값 : #SIGUNGU_NM0 > option\n",
    "    sggs     = driver.find_elements_by_css_selector('#SIGUNGU_NM0 > option')\n",
    "    sigungus = [ option.get_attribute('value') \n",
    "                 for option in sggs\n",
    "                 if option.get_attribute('value')\n",
    "               ]\n",
    "    print( sigungus )\n",
    "    \n",
    "    # value들 중에서 모든 구를 만나면, 값을 세팅한다\n",
    "    # 5초 대기 -> 사이트는 구의 주유소 정보를 가져올것이다\n",
    "    time.sleep(5)"
   ]
  },
  {
   "cell_type": "code",
   "execution_count": null,
   "id": "ed335d67",
   "metadata": {},
   "outputs": [],
   "source": []
  },
  {
   "cell_type": "code",
   "execution_count": null,
   "id": "d96eb18a",
   "metadata": {},
   "outputs": [],
   "source": []
  },
  {
   "cell_type": "code",
   "execution_count": null,
   "id": "ecd7d09c",
   "metadata": {},
   "outputs": [],
   "source": []
  },
  {
   "cell_type": "code",
   "execution_count": null,
   "id": "3bd66cfb",
   "metadata": {},
   "outputs": [],
   "source": []
  },
  {
   "cell_type": "code",
   "execution_count": null,
   "id": "1bcd3d7b",
   "metadata": {},
   "outputs": [],
   "source": []
  },
  {
   "cell_type": "code",
   "execution_count": null,
   "id": "ff3c6679",
   "metadata": {},
   "outputs": [],
   "source": []
  },
  {
   "cell_type": "code",
   "execution_count": null,
   "id": "3f248bbf",
   "metadata": {},
   "outputs": [],
   "source": []
  },
  {
   "cell_type": "code",
   "execution_count": null,
   "id": "7001de2d",
   "metadata": {},
   "outputs": [],
   "source": []
  },
  {
   "cell_type": "code",
   "execution_count": null,
   "id": "96719d43",
   "metadata": {},
   "outputs": [],
   "source": []
  },
  {
   "cell_type": "code",
   "execution_count": null,
   "id": "72f5ea28",
   "metadata": {},
   "outputs": [],
   "source": []
  },
  {
   "cell_type": "code",
   "execution_count": null,
   "id": "e1fb8fae",
   "metadata": {},
   "outputs": [],
   "source": []
  },
  {
   "cell_type": "code",
   "execution_count": null,
   "id": "dbbc357f",
   "metadata": {},
   "outputs": [],
   "source": []
  },
  {
   "cell_type": "code",
   "execution_count": null,
   "id": "1b3117a3",
   "metadata": {},
   "outputs": [],
   "source": []
  },
  {
   "cell_type": "code",
   "execution_count": null,
   "id": "b52672e2",
   "metadata": {},
   "outputs": [],
   "source": []
  },
  {
   "cell_type": "code",
   "execution_count": null,
   "id": "bf21a2a7",
   "metadata": {},
   "outputs": [],
   "source": []
  },
  {
   "cell_type": "code",
   "execution_count": null,
   "id": "aea1f7bd",
   "metadata": {},
   "outputs": [],
   "source": []
  },
  {
   "cell_type": "code",
   "execution_count": null,
   "id": "a4abc0d4",
   "metadata": {},
   "outputs": [],
   "source": []
  },
  {
   "cell_type": "code",
   "execution_count": null,
   "id": "3e0cd519",
   "metadata": {},
   "outputs": [],
   "source": []
  },
  {
   "cell_type": "code",
   "execution_count": null,
   "id": "70fb5158",
   "metadata": {},
   "outputs": [],
   "source": []
  },
  {
   "cell_type": "code",
   "execution_count": null,
   "id": "3eb2721c",
   "metadata": {},
   "outputs": [],
   "source": []
  },
  {
   "cell_type": "code",
   "execution_count": null,
   "id": "e1f0a479",
   "metadata": {},
   "outputs": [],
   "source": []
  },
  {
   "cell_type": "code",
   "execution_count": null,
   "id": "b7e939d6",
   "metadata": {},
   "outputs": [],
   "source": []
  },
  {
   "cell_type": "code",
   "execution_count": null,
   "id": "fdf77b79",
   "metadata": {},
   "outputs": [],
   "source": []
  },
  {
   "cell_type": "code",
   "execution_count": null,
   "id": "2e25ae1c",
   "metadata": {},
   "outputs": [],
   "source": []
  },
  {
   "cell_type": "code",
   "execution_count": null,
   "id": "4e0a808a",
   "metadata": {},
   "outputs": [],
   "source": []
  },
  {
   "cell_type": "code",
   "execution_count": null,
   "id": "71d8306e",
   "metadata": {},
   "outputs": [],
   "source": []
  },
  {
   "cell_type": "code",
   "execution_count": null,
   "id": "895bb7e6",
   "metadata": {},
   "outputs": [],
   "source": []
  }
 ],
 "metadata": {
  "kernelspec": {
   "display_name": "Python 3",
   "language": "python",
   "name": "python3"
  },
  "language_info": {
   "codemirror_mode": {
    "name": "ipython",
    "version": 3
   },
   "file_extension": ".py",
   "mimetype": "text/x-python",
   "name": "python",
   "nbconvert_exporter": "python",
   "pygments_lexer": "ipython3",
   "version": "3.9.1"
  }
 },
 "nbformat": 4,
 "nbformat_minor": 5
}
