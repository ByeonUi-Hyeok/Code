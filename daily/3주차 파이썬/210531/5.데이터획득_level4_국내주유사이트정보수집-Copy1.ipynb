{
 "cells": [
  {
   "cell_type": "code",
   "execution_count": 10,
   "id": "ea527eb1",
   "metadata": {},
   "outputs": [],
   "source": [
    "from selenium import webdriver as wd\n",
    "import time\n",
    "\n",
    "driver      = wd.Chrome( './chromedriver.exe' )\n",
    "target_site = 'https://www.opinet.co.kr/searRgSelect.do'\n",
    "driver.get( target_site )\n",
    "time.sleep( 2 )\n",
    "driver.get( target_site )\n",
    "\n",
    "tmp         = driver.find_elements_by_css_selector( '#SIDO_NM0 > option' )\n",
    "sidos       = [ option.get_attribute('value')  \n",
    "                for option in tmp \n",
    "                if option.get_attribute('value') ]"
   ]
  },
  {
   "cell_type": "code",
   "execution_count": 11,
   "id": "5352adba",
   "metadata": {},
   "outputs": [],
   "source": [
    "for sido in sidos[1:2]:    \n",
    "    sido_sel = driver.find_element_by_id('SIDO_NM0')\n",
    "    sido_sel.send_keys( sido )\n",
    "    time.sleep(5)\n",
    "\n",
    "    sggs     = driver.find_elements_by_css_selector('#SIGUNGU_NM0 > option')\n",
    "    sigungus = [ option.get_attribute('value') \n",
    "                 for option in sggs\n",
    "                 if option.get_attribute('value')\n",
    "               ]    \n",
    "    \n",
    "    for sigungu in sigungus:        \n",
    "        driver.find_element_by_id('SIGUNGU_NM0').send_keys( sigungu )\n",
    "        time.sleep(5)\n",
    "        # 남은 것은 엑셀 다운로드가 남음.\n",
    "        driver.find_element_by_id('glopopd_excel').click()"
   ]
  },
  {
   "cell_type": "code",
   "execution_count": null,
   "id": "acf2ba72",
   "metadata": {},
   "outputs": [],
   "source": [
    " # 남은 것은 엑셀 다운로드가 남음.\n",
    "# driver.find_element_by_id('glopopd_excel').click()\n",
    "#엑셀다운의 아이디는 glo~~ 이고 . 클릭하게 해라"
   ]
  },
  {
   "cell_type": "code",
   "execution_count": 5,
   "id": "6f8f401a",
   "metadata": {},
   "outputs": [],
   "source": [
    "# 마무리 (종료시 안해주면 서버쪽에 부하감)\n",
    "time.sleep(10)        # 다운로드 시간 기다려 주기위해 10초 기다리고\n",
    "driver.close()\n",
    "driver.quit()"
   ]
  },
  {
   "cell_type": "code",
   "execution_count": null,
   "id": "0bce2e42",
   "metadata": {},
   "outputs": [],
   "source": []
  }
 ],
 "metadata": {
  "kernelspec": {
   "display_name": "Python 3",
   "language": "python",
   "name": "python3"
  },
  "language_info": {
   "codemirror_mode": {
    "name": "ipython",
    "version": 3
   },
   "file_extension": ".py",
   "mimetype": "text/x-python",
   "name": "python",
   "nbconvert_exporter": "python",
   "pygments_lexer": "ipython3",
   "version": "3.9.1"
  }
 },
 "nbformat": 4,
 "nbformat_minor": 5
}
