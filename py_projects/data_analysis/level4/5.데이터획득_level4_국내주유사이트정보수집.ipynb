{
 "cells": [
  {
   "cell_type": "markdown",
   "id": "90c3db69",
   "metadata": {},
   "source": [
    "# 개발 환경\n",
    "\n",
    " - selenium 모듈 설치 (!pip install selenium)\n",
    " - 로컬 pc에서 진행\n",
    " - 웹드라이버 필요 (여기서는 크롬으로 사용)\n",
    "    - 로컬PC에서 설치된 크롬의 버전과 일치하는 웹드라이버 사용..\n",
    "    - 크롬 > : > 크롬정보\n",
    "    - 버전 90.0.4430.212(공식 빌드) (64비트)\n",
    "    - 현 파일 옆에 위치 시킴\n",
    "       - ./C:\\Users\\ad\\Desktop\\일지\\3주차 파이썬\\chromedriver_win32\\chromedriver.exe\n",
    "       - ./chromedriver.exe"
   ]
  },
  {
   "cell_type": "code",
   "execution_count": 3,
   "id": "333588d4",
   "metadata": {},
   "outputs": [
    {
     "name": "stdout",
     "output_type": "stream",
     "text": [
      "Collecting selenium\n",
      "  Downloading selenium-3.141.0-py2.py3-none-any.whl (904 kB)\n",
      "Requirement already satisfied: urllib3 in c:\\users\\ad\\miniconda3\\lib\\site-packages (from selenium) (1.25.11)\n",
      "Installing collected packages: selenium\n",
      "Successfully installed selenium-3.141.0\n"
     ]
    }
   ],
   "source": [
    "!pip install selenium"
   ]
  },
  {
   "cell_type": "code",
   "execution_count": 10,
   "id": "ea527eb1",
   "metadata": {},
   "outputs": [],
   "source": [
    "from selenium import webdriver as wd\n",
    "# 1. 모듈 가져오기(셀레니움)\n",
    "# webdriver의 명칭을 wd로 줌\n",
    "import time"
   ]
  },
  {
   "cell_type": "code",
   "execution_count": 47,
   "id": "29f3ebec",
   "metadata": {},
   "outputs": [],
   "source": [
    "# 2. 웹 드라이버 가동\n",
    "driver = wd.Chrome('./chromedriver.exe')\n",
    "# wd는 위에서 설정한 webdriver를 뜻함\n",
    "# Chrome은 첫글자 대문자 = 클래스다\n",
    "# 위의 크롬드라이버의 절대경로 표현은\n",
    "# C://Users//ad//Desktop//py_projects//level4//chromedriver.exe\n",
    "# path 관련 내용으로 오류가 나면 절대경로로 지정한다.\n",
    "# driver = wd.Chrome('C://Users//ad//Desktop//py_projects//level4//chromedriver.exe')"
   ]
  },
  {
   "cell_type": "code",
   "execution_count": 48,
   "id": "349acc10",
   "metadata": {},
   "outputs": [],
   "source": [
    "# 3. 타겟사이트 접속\n",
    "# 변수명 외에는 자동완성으로 가는게 오타가 적다\n",
    "target_site = 'https://www.opinet.co.kr/searRgSelect.do'\n",
    "driver.get (target_site)\n",
    "# 접속을 해보니 최소 두번은 요청(실행)해야 원하는 사이트로 진입이 된다.\n",
    "# 즉 시간 모듈이 필요할 것 같다.그래서 시간모듈을 땡겨와야한다.\n",
    "# import time\n",
    "time.sleep( 2 ) # 2초 쉰다.\n",
    "driver.get ( target_site ) #  다시 넣는다."
   ]
  },
  {
   "cell_type": "markdown",
   "id": "e8172990",
   "metadata": {},
   "source": [
    "# 사이트 분석\n",
    "\n",
    " - 사이트에서 데이터를 입력/선택 ... 등을 수행하고 서버로 전송 할 때, 이 내용들을 모두 감싸고 있는 전송 단위를 표현하는 태그는 form이다.\n",
    " - form으로 데이터를 보내는 행위를 폼전송이라고 한다.\n",
    " - html이 서버와 통신하는 행위는 2가지 밖에 없다.\n",
    "    - form 전송 - > 화면이 껌뻑인다 = >(화면이 바뀐다. 새로고침이되든 화면이 바뀌든, 새로고침 기호가 x가됫다가 돌아온다)\n",
    "    - ajax 백그라운드 통신 = > 화면은 그대로유지( 새로고침 기호 가만히 있긔.. 스크롤 내려가는것들 ajax임)\n",
    "    \n",
    " - 사용자의 선택을 요구하는 태그\n",
    "    - select>\n",
    "       - 선택할 후보들은 option>으로 표현(선택하는 목록)\n",
    "       - 선택한 값은 option의 value가 셋팅된다. \n",
    "       - 특정 option의 value값을 select의 value로 세팅하면  <= 선택\n",
    "       \n",
    "       - 시/도를 표현하는 select를 특정\n",
    "          - #SIDO_NM0             (id = sido_nm0"
   ]
  },
  {
   "cell_type": "code",
   "execution_count": 18,
   "id": "16e9d0c3",
   "metadata": {},
   "outputs": [
    {
     "data": {
      "text/plain": [
       "<selenium.webdriver.remote.webelement.WebElement (session=\"f2addcb148a030f0b72e7e46227a53b9\", element=\"4f372423-e300-446d-88b0-c2002fde9401\")>"
      ]
     },
     "execution_count": 18,
     "metadata": {},
     "output_type": "execute_result"
    }
   ],
   "source": [
    "# 4-1. 조작할 대상을 찾는다.\n",
    "driver.find_element_by_id('SIDO_NM0')\n",
    "# id를 직접 지칭함으로 css selector 표현을 사용하지 않는다."
   ]
  },
  {
   "cell_type": "code",
   "execution_count": 19,
   "id": "9fdeebea",
   "metadata": {
    "collapsed": true
   },
   "outputs": [
    {
     "data": {
      "text/plain": [
       "[<selenium.webdriver.remote.webelement.WebElement (session=\"f2addcb148a030f0b72e7e46227a53b9\", element=\"edb86037-30f9-4ead-9f3b-95e847ba0653\")>,\n",
       " <selenium.webdriver.remote.webelement.WebElement (session=\"f2addcb148a030f0b72e7e46227a53b9\", element=\"0c3d50fb-8e56-45c2-b9bf-73b1fc79f490\")>,\n",
       " <selenium.webdriver.remote.webelement.WebElement (session=\"f2addcb148a030f0b72e7e46227a53b9\", element=\"9091c1e6-aae5-4897-b098-92231034ef84\")>,\n",
       " <selenium.webdriver.remote.webelement.WebElement (session=\"f2addcb148a030f0b72e7e46227a53b9\", element=\"9ce2b0b1-f0f9-441f-9ddc-a2240d11dbdf\")>,\n",
       " <selenium.webdriver.remote.webelement.WebElement (session=\"f2addcb148a030f0b72e7e46227a53b9\", element=\"1eb72282-6c90-40e4-babc-0a2717928525\")>,\n",
       " <selenium.webdriver.remote.webelement.WebElement (session=\"f2addcb148a030f0b72e7e46227a53b9\", element=\"6f658b7b-601c-416a-b68b-54737ff106c1\")>,\n",
       " <selenium.webdriver.remote.webelement.WebElement (session=\"f2addcb148a030f0b72e7e46227a53b9\", element=\"e8cd3d6f-77a7-415a-8de7-c2224e47b782\")>,\n",
       " <selenium.webdriver.remote.webelement.WebElement (session=\"f2addcb148a030f0b72e7e46227a53b9\", element=\"a800d852-9c7d-4559-9fd2-5396fce04d7e\")>,\n",
       " <selenium.webdriver.remote.webelement.WebElement (session=\"f2addcb148a030f0b72e7e46227a53b9\", element=\"3e82c584-c11a-4d3d-bf81-3eebe39bb2c3\")>,\n",
       " <selenium.webdriver.remote.webelement.WebElement (session=\"f2addcb148a030f0b72e7e46227a53b9\", element=\"f83e5b9b-fc09-449c-a419-6faeb3ed635b\")>,\n",
       " <selenium.webdriver.remote.webelement.WebElement (session=\"f2addcb148a030f0b72e7e46227a53b9\", element=\"42848e15-85e8-432c-b7e7-e1bc35224e74\")>,\n",
       " <selenium.webdriver.remote.webelement.WebElement (session=\"f2addcb148a030f0b72e7e46227a53b9\", element=\"51361301-3b5b-426b-8372-afdf3d9173bd\")>,\n",
       " <selenium.webdriver.remote.webelement.WebElement (session=\"f2addcb148a030f0b72e7e46227a53b9\", element=\"fa9d7324-2645-425e-8a18-80e437cd16f8\")>,\n",
       " <selenium.webdriver.remote.webelement.WebElement (session=\"f2addcb148a030f0b72e7e46227a53b9\", element=\"f3673aa4-ca21-4ef0-a1f6-fa9e6e411efd\")>,\n",
       " <selenium.webdriver.remote.webelement.WebElement (session=\"f2addcb148a030f0b72e7e46227a53b9\", element=\"deae85bd-1f58-47cd-b4eb-88bf0d372931\")>,\n",
       " <selenium.webdriver.remote.webelement.WebElement (session=\"f2addcb148a030f0b72e7e46227a53b9\", element=\"6cf1e15d-3f14-43f7-a29a-93859dc69b38\")>,\n",
       " <selenium.webdriver.remote.webelement.WebElement (session=\"f2addcb148a030f0b72e7e46227a53b9\", element=\"79cec681-12c6-4242-bf32-4120ee9480e4\")>,\n",
       " <selenium.webdriver.remote.webelement.WebElement (session=\"f2addcb148a030f0b72e7e46227a53b9\", element=\"8c69f97f-3af7-4a52-b6d0-f75767f5f934\")>]"
      ]
     },
     "execution_count": 19,
     "metadata": {},
     "output_type": "execute_result"
    }
   ],
   "source": [
    "# 4-0. 시도값을 세팅할 후보값을 추출한다. (이게 위에것 보다 먼저 해야 할 것)\n",
    "# ex) 서울특별시, 부산광역시 등...\n",
    "# #SIDO_NM0 > option #sido_nm0의 직계자식(>) option\n",
    "# 이것이 css selector : #SIDO_NM0 > option\n",
    "\n",
    "# driver.find_elements_by_css_selector\n",
    "# drive의 find써야하는데 요소들 다찾아야하니까 elements 우리의 자료는 css selcctor이니까 //\n",
    "\n",
    "driver.find_elements_by_css_selector ( '#SIDO_NM0 > option' )"
   ]
  },
  {
   "cell_type": "code",
   "execution_count": 29,
   "id": "ce0f295a",
   "metadata": {},
   "outputs": [
    {
     "name": "stdout",
     "output_type": "stream",
     "text": [
      "\n",
      "서울특별시\n",
      "부산광역시\n",
      "대구광역시\n",
      "인천광역시\n",
      "광주광역시\n",
      "대전광역시\n",
      "울산광역시\n",
      "세종특별자치시\n",
      "경기도\n",
      "강원도\n",
      "충청북도\n",
      "충청남도\n",
      "전라북도\n",
      "전라남도\n",
      "경상북도\n",
      "경상남도\n",
      "제주특별자치도\n"
     ]
    }
   ],
   "source": [
    "for option in driver.find_elements_by_css_selector ( '#SIDO_NM0 > option' ) :\n",
    "    print(option.get_attribute('value')) # attribute = 속성 (option value) option의 attribute는 value     "
   ]
  },
  {
   "cell_type": "code",
   "execution_count": 23,
   "id": "6f528ae5",
   "metadata": {},
   "outputs": [
    {
     "name": "stdout",
     "output_type": "stream",
     "text": [
      "\n",
      "서울특별시\n",
      "부산광역시\n"
     ]
    }
   ],
   "source": [
    "tmp = driver.find_elements_by_css_selector( '#SIDO_NM0 > option' )\n",
    "\n",
    "# 처음부터 3개까지만 샘플링 확인\n",
    "for option in tmp [:3]:\n",
    "    print(option.get_attribute('value'))"
   ]
  },
  {
   "cell_type": "code",
   "execution_count": 30,
   "id": "ee962b22",
   "metadata": {},
   "outputs": [],
   "source": [
    "# 실습 1: value만 다 뽑아서 리스트에 담으시오(출력도 가능)\n",
    "# 실습 2: value값이 없는것은 제외하고 담으시오"
   ]
  },
  {
   "cell_type": "code",
   "execution_count": 34,
   "id": "a8ddf153",
   "metadata": {},
   "outputs": [
    {
     "name": "stdout",
     "output_type": "stream",
     "text": [
      "[]\n",
      "[서울특별시]\n",
      "[부산광역시]\n",
      "[대구광역시]\n",
      "[인천광역시]\n",
      "[광주광역시]\n",
      "[대전광역시]\n",
      "[울산광역시]\n",
      "[세종특별자치시]\n",
      "[경기도]\n",
      "[강원도]\n",
      "[충청북도]\n",
      "[충청남도]\n",
      "[전라북도]\n",
      "[전라남도]\n",
      "[경상북도]\n",
      "[경상남도]\n",
      "[제주특별자치도]\n"
     ]
    }
   ],
   "source": [
    "tmp = driver.find_elements_by_css_selector( '#SIDO_NM0 > option' )\n",
    "\n",
    "# 처음부터 3개까지만 샘플링 확인\n",
    "for option in tmp :\n",
    "    print(f\"[{option.get_attribute('value')}]\") # 포맷팅.. 한것??"
   ]
  },
  {
   "cell_type": "code",
   "execution_count": 38,
   "id": "a076e1bf",
   "metadata": {},
   "outputs": [
    {
     "name": "stdout",
     "output_type": "stream",
     "text": [
      "[서울특별시]\n",
      "[부산광역시]\n",
      "[대구광역시]\n",
      "[인천광역시]\n",
      "[광주광역시]\n",
      "[대전광역시]\n",
      "[울산광역시]\n",
      "[세종특별자치시]\n",
      "[경기도]\n",
      "[강원도]\n",
      "[충청북도]\n",
      "[충청남도]\n",
      "[전라북도]\n",
      "[전라남도]\n",
      "[경상북도]\n",
      "[경상남도]\n",
      "[제주특별자치도]\n"
     ]
    }
   ],
   "source": [
    "tmp = driver.find_elements_by_css_selector( '#SIDO_NM0 > option' )\n",
    "for option in tmp :\n",
    "    if option.get_attribute('value') :           # == 0 or ==True안넣어도 됨. // 즉 저값의 빈값을 뺏음\n",
    "    # if len(option.get_attribute('value')) > 0:  이것과 같음\n",
    "        print(f\"[{option.get_attribute('value')}]\")# 포맷팅.. 한것??"
   ]
  },
  {
   "cell_type": "code",
   "execution_count": 40,
   "id": "816aab31",
   "metadata": {},
   "outputs": [
    {
     "data": {
      "text/plain": [
       "['서울특별시',\n",
       " '부산광역시',\n",
       " '대구광역시',\n",
       " '인천광역시',\n",
       " '광주광역시',\n",
       " '대전광역시',\n",
       " '울산광역시',\n",
       " '세종특별자치시',\n",
       " '경기도',\n",
       " '강원도',\n",
       " '충청북도',\n",
       " '충청남도',\n",
       " '전라북도',\n",
       " '전라남도',\n",
       " '경상북도',\n",
       " '경상남도',\n",
       " '제주특별자치도']"
      ]
     },
     "execution_count": 40,
     "metadata": {},
     "output_type": "execute_result"
    }
   ],
   "source": [
    "tmp = driver.find_elements_by_css_selector( '#SIDO_NM0 > option' )\n",
    "[ option.get_attribute('value') for option in tmp if option.get_attribute('value') ]"
   ]
  },
  {
   "cell_type": "code",
   "execution_count": 41,
   "id": "c1fd987a",
   "metadata": {},
   "outputs": [
    {
     "name": "stdout",
     "output_type": "stream",
     "text": [
      "['서울특별시', '부산광역시', '대구광역시', '인천광역시', '광주광역시', '대전광역시', '울산광역시', '세종특별자치시', '경기도', '강원도', '충청북도', '충청남도', '전라북도', '전라남도', '경상북도', '경상남도', '제주특별자치도']\n"
     ]
    }
   ],
   "source": [
    "sidos = [ option.get_attribute('value') for option in tmp if option.get_attribute('value') ]\n",
    "print(sidos)"
   ]
  },
  {
   "cell_type": "code",
   "execution_count": 43,
   "id": "bac434fd",
   "metadata": {
    "collapsed": true
   },
   "outputs": [
    {
     "data": {
      "text/plain": [
       "<selenium.webdriver.remote.webelement.WebElement (session=\"f2addcb148a030f0b72e7e46227a53b9\", element=\"4f372423-e300-446d-88b0-c2002fde9401\")>"
      ]
     },
     "execution_count": 43,
     "metadata": {},
     "output_type": "execute_result"
    }
   ],
   "source": [
    "# 5초 간격으로 시도를 바꿔가면서 페이지를 로드하겠다.\n",
    "# 5초 간격 // 시도를 바꾼다 // 페이지를 로드한다.\n",
    "\n",
    "# 4-1. 조작할 대상을 찾는다.\n",
    "driver.find_element_by_id('SIDO_NM0')\n",
    "# id를 직접 지칭함으로 css selector 표현을 사용하지 않는다."
   ]
  },
  {
   "cell_type": "code",
   "execution_count": 53,
   "id": "b2663fc9",
   "metadata": {},
   "outputs": [],
   "source": [
    "for sido in sidos :           # sidos에서 하나씩 끄집어내서 sido로 넣겠다.\n",
    "    \n",
    "    #0. select 요소를 찾는다.\n",
    "    sido_sel = driver.find_element_by_id('SIDO_NM0')          # 셀렉트 엘리먼츠\n",
    "    \n",
    "    # 1. select 값을 해당 sido 로 변경\n",
    "    sido_sel.send_keys (sido)                                # 변경하는거 sendkeys ?\n",
    "    # 2. 5초 대기\n",
    "    time.sleep ( 5 )\n",
    "    \n",
    "\n",
    "# 상위 시도 선택 +  대기 5초"
   ]
  },
  {
   "cell_type": "code",
   "execution_count": null,
   "id": "2c94e9d6",
   "metadata": {},
   "outputs": [],
   "source": [
    "# 실습 => 부산['부산광역시']선택 > 부산진구 선택"
   ]
  },
  {
   "cell_type": "code",
   "execution_count": 54,
   "id": "675d3c83",
   "metadata": {},
   "outputs": [
    {
     "data": {
      "text/plain": [
       "<selenium.webdriver.remote.webelement.WebElement (session=\"67971e6b36a7c641a85be413cd61214b\", element=\"be023035-bfd2-4a59-9436-121f8e91ca94\")>"
      ]
     },
     "execution_count": 54,
     "metadata": {},
     "output_type": "execute_result"
    }
   ],
   "source": [
    "driver.find_element_by_id('SIDO_NM0')"
   ]
  },
  {
   "cell_type": "code",
   "execution_count": 60,
   "id": "1a0a1c4f",
   "metadata": {},
   "outputs": [
    {
     "name": "stdout",
     "output_type": "stream",
     "text": [
      "['강서구', '금정구', '기장군', '남구', '동구', '동래구', '부산진구', '북구', '사상구', '사하구', '서구', '수영구', '연제구', '영도구', '중구', '해운대구']\n"
     ]
    }
   ],
   "source": [
    "# tmp2 = driver.find_elements_by_css_selector( '#SIGUNGU_NM0 > option' )\n",
    "# sidos2 = [ option.get_attribute('value') for option in tmp2 if option.get_attribute('value') ]\n",
    "# print(sidos2)\n"
   ]
  },
  {
   "cell_type": "code",
   "execution_count": 63,
   "id": "9d65a57e",
   "metadata": {},
   "outputs": [
    {
     "ename": "SyntaxError",
     "evalue": "invalid syntax (<ipython-input-63-466d81290941>, line 4)",
     "output_type": "error",
     "traceback": [
      "\u001b[1;36m  File \u001b[1;32m\"<ipython-input-63-466d81290941>\"\u001b[1;36m, line \u001b[1;32m4\u001b[0m\n\u001b[1;33m    if option.get_attribute('value') !== '부산진구'\u001b[0m\n\u001b[1;37m                                       ^\u001b[0m\n\u001b[1;31mSyntaxError\u001b[0m\u001b[1;31m:\u001b[0m invalid syntax\n"
     ]
    }
   ],
   "source": [
    "# for sido2 in sidos2 :           # sidos에서 하나씩 끄집어내서 sido로 넣겠다.\n",
    "    \n",
    "#     #0. select 요소를 찾는다.\n",
    "#     if option.get_attribute('value') !== '부산진구'\n",
    "#         sido2_sel = driver.find_element_by_id('SIGUNGU_NM0')          # 셀렉트 엘리먼츠\n",
    "    \n",
    "#         # 1. select 값을 해당 sido 로 변경\n",
    "#         sido2_sel.send_keys (sido2)                                # 변경하는거 sendkeys ?\n",
    "#         # 2. 5초 대기\n",
    "#         time.sleep ( 5 )\n",
    "    \n",
    "#     else :\n",
    "#         break\n",
    "# 위의 주석부분 내가한거"
   ]
  },
  {
   "cell_type": "code",
   "execution_count": null,
   "id": "f5c6ac5a",
   "metadata": {},
   "outputs": [],
   "source": [
    "for sido in sidos :         \n",
    "    #시도 선택\n",
    "    sido_sel = driver.find_element_by_id('SIDO_NM0')          \n",
    "    sido_sel.send_keys (sido)\n",
    "    # 5초 강제 대기 (코드가)\n",
    "    time.sleep ( 5 )"
   ]
  },
  {
   "cell_type": "code",
   "execution_count": null,
   "id": "8494c4fe",
   "metadata": {},
   "outputs": [],
   "source": [
    "for sido in sidos :         \n",
    "    #시도 선택\n",
    "    sido_sel = driver.find_element_by_id('SIDO_NM0')          \n",
    "    sido_sel.send_keys (sido)\n",
    "    # 5초 강제 대기\n",
    "    time.sleep ( 5 )\n",
    "    # 5초대기하면 시도가 바뀌었음... 그럼 사이트는 새로운 시/군/구가 세팅 됐을 것이다.\n",
    "    # 로드된 시군구 화면에서 (option)의 value 값 들을 추출한다.\n",
    "    # value들 중에서 부산진구를 만나면, 값을 셋팅한다.\n",
    "    # 5초대기 - > 사이트는 부산진구의 주유소 정보를 가져올 것이다.\n",
    "    time.sleep ( 5 )"
   ]
  },
  {
   "cell_type": "code",
   "execution_count": 65,
   "id": "23372f26",
   "metadata": {},
   "outputs": [
    {
     "data": {
      "text/plain": [
       "['부산광역시']"
      ]
     },
     "execution_count": 65,
     "metadata": {},
     "output_type": "execute_result"
    }
   ],
   "source": [
    "sidos[1:2]"
   ]
  },
  {
   "cell_type": "code",
   "execution_count": 74,
   "id": "5352adba",
   "metadata": {},
   "outputs": [
    {
     "name": "stdout",
     "output_type": "stream",
     "text": [
      "['강서구', '금정구', '기장군', '남구', '동구', '동래구', '부산진구', '북구', '사상구', '사하구', '서구', '수영구', '연제구', '영도구', '중구', '해운대구']\n"
     ]
    }
   ],
   "source": [
    "for sido in sidos[1:2] :                 #슬라이싱 결과는 리스트... 기존으?         \n",
    "    #시도 선택\n",
    "    sido_sel = driver.find_element_by_id('SIDO_NM0')          \n",
    "    sido_sel.send_keys (sido)\n",
    "    # 5초 강제 대기\n",
    "    time.sleep ( 5 )\n",
    "    # 5초대기하면 시도가 바뀌었음... 그럼 사이트는 새로운 시/군/구가 세팅 됐을 것이다.\n",
    "    # 로드된 시군구 화면에서 (option)의 value 값 들을 추출한다.\n",
    "    # selector 값 : #SIGUNGU_NM0 > option\n",
    "    # select <>의 id = SIGUNGU_NM0 이고 그의 직계 자식 option\n",
    "    sggs = driver.find_elements_by_css_selector( '#SIGUNGU_NM0 > option' )\n",
    "    # 드라이버는 전체문서. 파인드. 싹다(elements~~selector)\n",
    "    sigungus = [ option.get_attribute('value') for option in sggs if option.get_attribute('value') ]\n",
    "print(sigungus)    \n",
    "for sigungu in sigungus :\n",
    "    driver.find_element_by_id('SIGUNGU_NM0').send_keys( sigungu )            \n",
    "    #시군구 select 태그를 특정해서 #주어진 시군구로 셋팅(send_keys)\n",
    "\n",
    "    # value들 중에서 모든 구를 만나면, 값을 셋팅한다.\n",
    "    # 5초대기 - > 사이트는 모든 구의 주유소 정보를 가져올 것이다.\n",
    "    time.sleep(5)"
   ]
  },
  {
   "cell_type": "code",
   "execution_count": 68,
   "id": "6b174f11",
   "metadata": {},
   "outputs": [],
   "source": []
  },
  {
   "cell_type": "code",
   "execution_count": null,
   "id": "81888697",
   "metadata": {},
   "outputs": [],
   "source": []
  }
 ],
 "metadata": {
  "kernelspec": {
   "display_name": "Python 3",
   "language": "python",
   "name": "python3"
  },
  "language_info": {
   "codemirror_mode": {
    "name": "ipython",
    "version": 3
   },
   "file_extension": ".py",
   "mimetype": "text/x-python",
   "name": "python",
   "nbconvert_exporter": "python",
   "pygments_lexer": "ipython3",
   "version": "3.9.1"
  }
 },
 "nbformat": 4,
 "nbformat_minor": 5
}
