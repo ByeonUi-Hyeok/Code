{
 "cells": [
  {
   "cell_type": "markdown",
   "source": [
    "##  第4章 姿勢推定の準備ファイル\n",
    "\n",
    "- 本ファイルでは、第4章で使用するフォルダの作成とファイルのダウンロードを行います。"
   ],
   "metadata": {}
  },
  {
   "cell_type": "code",
   "execution_count": 2,
   "source": [
    "import os\r\n",
    "import urllib.request\r\n",
    "import zipfile\r\n",
    "import tarfile"
   ],
   "outputs": [],
   "metadata": {}
  },
  {
   "cell_type": "code",
   "execution_count": 3,
   "source": [
    "# フォルダ「data」が存在しない場合は作成する\r\n",
    "# 폴더 data가 존재하지 않는 경우 생성한다.\r\n",
    "data_dir = \"./data/\"\r\n",
    "if not os.path.exists(data_dir):\r\n",
    "    os.mkdir(data_dir)"
   ],
   "outputs": [],
   "metadata": {}
  },
  {
   "cell_type": "code",
   "execution_count": 4,
   "source": [
    "# フォルダ「weights」が存在しない場合は作成する\r\n",
    "# 위와 동일 폴더없으면 생성\r\n",
    "weights_dir = \"./weights/\"\r\n",
    "if not os.path.exists(weights_dir):\r\n",
    "    os.mkdir(weights_dir)"
   ],
   "outputs": [],
   "metadata": {}
  },
  {
   "cell_type": "code",
   "execution_count": 5,
   "source": [
    "# MSCOCOの2014 Val images [41K/6GB]をダウンロード\r\n",
    "# 6GBのダウンロードと解凍なので時間がかかります（10分弱）\r\n",
    "# MS COCO의 2014 Val images [41K/6GB] 다운로드\r\n",
    "# 6GB의 다운로드와 해동이므로 시간이 걸립니다(10분미만)\r\n",
    "url =  \"http://images.cocodataset.org/zips/val2014.zip\"\r\n",
    "target_path = os.path.join(data_dir, \"val2014.zip\") \r\n",
    "\r\n",
    "if not os.path.exists(target_path):\r\n",
    "    urllib.request.urlretrieve(url, target_path)\r\n",
    "    \r\n",
    "    zip = zipfile.ZipFile(target_path)\r\n",
    "    zip.extractall(data_dir)  # ZIPを解凍\r\n",
    "    zip.close()  # ZIPファイルをクローズ\r\n",
    "    \r\n"
   ],
   "outputs": [],
   "metadata": {}
  },
  {
   "cell_type": "markdown",
   "source": [
    "## tensorboyさんのGitHubから必要なデータを手動ダウンロード\r\n",
    "\r\n",
    "tensorboyさんがCOCODatasetから使用しやすいように、加工したデータを使用します\r\n",
    "\r\n",
    "https://github.com/tensorboy/pytorch_Realtime_Multi-Person_Pose_Estimation\r\n",
    "\r\n",
    "Released under the MIT license\r\n",
    "\r\n",
    "## tensorboy님의 GitHub에서 필요한 데이터를 수동 다운로드\r\n",
    "\r\n",
    "tensorboy산이 COCO Dataset에서 사용하기 쉽도록 가공한 데이터를 사용합니다."
   ],
   "metadata": {}
  },
  {
   "cell_type": "code",
   "execution_count": 7,
   "source": [
    "# 画像データのアノテーションデータを整理したファイル「COCO.json」をダウンロードします。\r\n",
    "# 화상 데이터의 어노테이션 데이터를 정리한 파일 「COCO.json」을 다운로드합니다.\r\n",
    "# フォルダ「data」に以下のデータを配置\r\n",
    "# アノテーションデータ「COCO.json」\r\n",
    "# 폴더 data에 아래 데이터 배치\r\n",
    "# 어노테이션 데이터 「COCO.json」\r\n",
    "\r\n",
    "https://www.dropbox.com/s/0sj2q24hipiiq5t/COCO.json?dl=0"
   ],
   "outputs": [
    {
     "output_type": "error",
     "ename": "SyntaxError",
     "evalue": "invalid syntax (<ipython-input-7-f90b310cff12>, line 8)",
     "traceback": [
      "\u001b[1;36m  File \u001b[1;32m\"<ipython-input-7-f90b310cff12>\"\u001b[1;36m, line \u001b[1;32m8\u001b[0m\n\u001b[1;33m    https://www.dropbox.com/s/0sj2q24hipiiq5t/COCO.json?dl=0\u001b[0m\n\u001b[1;37m          ^\u001b[0m\n\u001b[1;31mSyntaxError\u001b[0m\u001b[1;31m:\u001b[0m invalid syntax\n"
     ]
    }
   ],
   "metadata": {}
  },
  {
   "cell_type": "code",
   "execution_count": null,
   "source": [
    "# 画像中でアノテーション（人の関節位置の情報）がない人の部分をマスクするデータを用意します。\r\n",
    "# 화상중에서 어노테이션(사람의 관절위치의 정보)이 없는 사람의 부분을 마스크하는 데이터를 준비합니다.\r\n",
    "\r\n",
    "# フォルダ「data」に以下のデータ「mask.tar.gz」を配置\r\n",
    "# マスクデータ「mask.tar.gz」\r\n",
    "\r\n",
    "# 폴더 「data」에 이하의 데이터 「mask.tar.gz」를 배치\r\n",
    "# 마스크 데이터 'mask.tar.gz'\r\n",
    "\r\n",
    "https://www.dropbox.com/s/bd9ty7b4fqd5ebf/mask.tar.gz?dl=0"
   ],
   "outputs": [],
   "metadata": {}
  },
  {
   "cell_type": "markdown",
   "source": [
    "## mask.tar.gzを以下で解凍します"
   ],
   "metadata": {}
  },
  {
   "cell_type": "code",
   "execution_count": 10,
   "source": [
    "# mask.tar.gzの解凍\r\n",
    "\r\n",
    "save_path = os.path.join(data_dir, \"mask.tar.gz\") \r\n",
    "\r\n",
    "with tarfile.open(save_path, 'r:*') as tar:\r\n",
    "    tar.extractall(data_dir)\r\n"
   ],
   "outputs": [],
   "metadata": {}
  },
  {
   "cell_type": "markdown",
   "source": [
    "# 学習済みモデルのダウンロード"
   ],
   "metadata": {}
  },
  {
   "cell_type": "code",
   "execution_count": null,
   "source": [
    "# tensorboyさんによる、学習済みのOpenPoseモデル「pspnet50_30.pth」を用意します。\r\n",
    "\r\n",
    "フォルダ「weights」に以下の「pose_model_scratch.pth」を配置\r\n",
    "学習済みモデル「pose_model_scratch.pth」\r\n",
    "\r\n",
    "https://www.dropbox.com/s/5v654d2u65fuvyr/pose_model_scratch.pth?dl=0\r\n",
    "\r\n",
    "# tensorboy씨에 의한, 학습이 끝난 OpenPose 모델 「pspnet50_30.pth」를 준비합니다.\r\n",
    "\r\n",
    "폴더 「weights」에 이하의 「pose_model_scratch.pth」를 배치\r\n",
    "학습 완료 모델「pose_model_scratch.pth」\r\n",
    "    \r\n"
   ],
   "outputs": [],
   "metadata": {}
  },
  {
   "cell_type": "code",
   "execution_count": null,
   "source": [
    "【※（実施済み）】\r\n",
    "草野球の画像を手動でダウンロード\r\n",
    "\r\n",
    "https://pixabay.com/ja/photos/%E3%83%92%E3%83%83%E3%83%88-%E3%82%AD%E3%83%A3%E3%83%83%E3%83%81%E3%83%A3%E3%83%BC-%E9%87%8E%E7%90%83-1407826/\r\n",
    "\r\n",
    "の640×426サイズの画像\r\n",
    "（画像権利情報：商用利用無料、帰属表示は必要ありません）\r\n",
    "\r\n",
    "を、フォルダ「data」の直下に置く。\r\n",
    "\r\n",
    "[※ (실시 완료)]\r\n",
    "동네 야구 이미지를 수동으로 다운로드"
   ],
   "outputs": [],
   "metadata": {}
  },
  {
   "cell_type": "markdown",
   "source": [
    "以上"
   ],
   "metadata": {}
  }
 ],
 "metadata": {
  "kernelspec": {
   "name": "python3",
   "display_name": "Python 3.9.1 64-bit ('base': conda)"
  },
  "language_info": {
   "codemirror_mode": {
    "name": "ipython",
    "version": 3
   },
   "file_extension": ".py",
   "mimetype": "text/x-python",
   "name": "python",
   "nbconvert_exporter": "python",
   "pygments_lexer": "ipython3",
   "version": "3.9.1"
  },
  "interpreter": {
   "hash": "26cbe81f990c700cacc7344ce939feb35388ff5140935024bac84d606131ac1b"
  }
 },
 "nbformat": 4,
 "nbformat_minor": 2
}