{
 "cells": [
  {
   "cell_type": "markdown",
   "id": "372a7979",
   "metadata": {},
   "source": [
    "# 유투브 댓글 수집\n",
    "\n",
    " - 특정 단어 검색 후 필요한 만큼 영상물 로드\n",
    " - 특정 영상에 존재하는 댓글 수집\n",
    " -  뜬 화면에서 스크롤이 움직이는가 ?\n",
    " - 새로고침 모양이 바뀌는거? 늘 확인해야함."
   ]
  },
  {
   "cell_type": "code",
   "execution_count": 34,
   "id": "749aef63",
   "metadata": {},
   "outputs": [],
   "source": [
    "from selenium import webdriver as wd\n",
    "import time\n",
    "\n",
    "driver      = wd.Chrome( './chromedriver.exe' )\n",
    "target_site = 'https://www.youtube.com/results?search_query=%EC%86%90%ED%9D%A5%EB%AF%BC&sp=EgIIAg%253D%253D'\n",
    "driver.get( target_site )\n",
    "\n",
    "#화면이 바로 나오지 않기때문에 (코드실행 후 ) 대기하는 시간이 필요하다\n",
    "#대기 하는 코드에는 강제적(times sleep), 기타(selenium) 등 존재한다.\n",
    "# https://selenium-python.readthedocs.io/waits.html\n",
    "time. sleep(2)"
   ]
  },
  {
   "cell_type": "code",
   "execution_count": 37,
   "id": "ea53f058",
   "metadata": {},
   "outputs": [],
   "source": [
    "# 게시물을 필요한 만큼 가져오기 위해서 스크롤바를 내린다.(튕길때까지??)\n",
    "# 10회 정도 끝까지 내려서 추가 영상 목록을 받아온다.\n",
    "# 화면 디자인 css \n",
    "# 화면 내룡 html\n",
    "# 화면 움직임 js\n",
    "# 그래서 JS를 파이썬에서 명령을 내려서 구동시켜야 한다.\n",
    "\n",
    "driver.execute_script( '''\n",
    "    window.scrollBy( 0, 1000 )\n",
    "''' )\n",
    "#window는 띄워진 화면  scrollBy는 스크롤 움직여라 (0, 1000)은 1000만큼\n",
    "# 스크롤하라는 뜻 더크게 넣어도 상관없음 어짜피 끝가면 멈춤    \n",
    "\n",
    "\n",
    "\n",
    "#driver은 현재화면..\n",
    "#자바스크립트를 직접 작동하는 명령어 driver.execute_script()\n",
    "# ''' ''' 구조유지 / 주석 / ?"
   ]
  },
  {
   "cell_type": "code",
   "execution_count": 28,
   "id": "5cb3d877",
   "metadata": {},
   "outputs": [],
   "source": [
    "for n in range(10):                  # 화면 땡기는걸 10번 반복하기위해 for문\n",
    "    driver.execute_script( '''\n",
    "        window.scrollBy( 0, 1000 )\n",
    "    ''' )\n",
    "    time.sleep(2)                  # 화면이 바로뜨는게아니니까 2초기다리고 땡기고 반복"
   ]
  },
  {
   "cell_type": "code",
   "execution_count": 36,
   "id": "048cb830",
   "metadata": {},
   "outputs": [
    {
     "data": {
      "text/plain": [
       "20"
      ]
     },
     "execution_count": 36,
     "metadata": {},
     "output_type": "execute_result"
    }
   ],
   "source": [
    "# 영상물의 제목을 추출하시오.\n",
    "# 제목을 특정해서 추출\n",
    "# 유투브는 게시물 한개를 ytd-video-renderer라는 태그로 관리한다.\n",
    "videos = driver.find_elements_by_tag_name('ytd-video-renderer')\n",
    "len(videos)"
   ]
  },
  {
   "cell_type": "code",
   "execution_count": null,
   "id": "ec39d329",
   "metadata": {},
   "outputs": [],
   "source": [
    "# 영상물의 제목을 추출하시오\n",
    "# 썸네일, 영상 링크, 작성자, 조회수, 작성시간 등 메타정보 추출"
   ]
  },
  {
   "cell_type": "code",
   "execution_count": 38,
   "id": "9b31c67c",
   "metadata": {},
   "outputs": [
    {
     "name": "stdout",
     "output_type": "stream",
     "text": [
      "<selenium.webdriver.remote.webelement.WebElement (session=\"ab740de7db4113867534edf6d34f557d\", element=\"e910b8f0-5233-4818-8399-b2f4488153cf\")>\n"
     ]
    }
   ],
   "source": [
    "for video in videos:\n",
    "    print( video.find_element_by_id('video-title') )\n",
    "    break"
   ]
  },
  {
   "cell_type": "code",
   "execution_count": 40,
   "id": "f5edfdb9",
   "metadata": {},
   "outputs": [
    {
     "name": "stdout",
     "output_type": "stream",
     "text": [
      "손흥민 이적 가능성, 맨유 맨시티 유베가 1순위? 포체티노 리턴 여부도 중요!\n"
     ]
    }
   ],
   "source": [
    "for video in videos:\n",
    "    v = video.find_element_by_id('video-title')\n",
    "    print( v.get_attribute( 'title' ) )\n",
    "    break"
   ]
  },
  {
   "cell_type": "code",
   "execution_count": 41,
   "id": "e60a0cc5",
   "metadata": {},
   "outputs": [
    {
     "name": "stdout",
     "output_type": "stream",
     "text": [
      "9:45\n",
      "손흥민 이적 가능성, 맨유 맨시티 유베가 1순위? 포체티노 리턴 여부도 중요!\n",
      "조회수 5.2만회\n",
      "9시간 전\n",
      "서형욱의 뽈리TV\n",
      "손흥민이 이적한다면 대상 클럽은 #맨시티 #맨유 #유벤투스 중 하나일 확률이 가장 높다는 분석이 나왔네요. 이런건 도박사들이 또 ...\n",
      "새 동영상\n"
     ]
    }
   ],
   "source": [
    "for video in videos:\n",
    "    print( video.text )\n",
    "    break"
   ]
  },
  {
   "cell_type": "code",
   "execution_count": 42,
   "id": "eae37859",
   "metadata": {},
   "outputs": [
    {
     "name": "stdout",
     "output_type": "stream",
     "text": [
      "손흥민 이적 가능성, 맨유 맨시티 유베가 1순위? 포체티노 리턴 여부도 중요!\n",
      "서형욱의 뽈리TV\n"
     ]
    }
   ],
   "source": [
    "# 영상물의 제목을 추출하시오\n",
    "# 썸네일, 영상 링크, 작성자, 조회수, 작성시간 등등 메타정보 추출\n",
    "for video in videos:\n",
    "    v = video.find_element_by_id('video-title')\n",
    "    print( v.get_attribute('title') )\n",
    "    author = video.find_elements_by_css_selector('a.yt-simple-endpoint.style-scope.yt-formatted-string') #길면 이렇게 특정?\n",
    "    for au in author:\n",
    "        if au.text:\n",
    "            print( au.text )        \n",
    "    break"
   ]
  },
  {
   "cell_type": "code",
   "execution_count": 43,
   "id": "78846a11",
   "metadata": {},
   "outputs": [
    {
     "name": "stdout",
     "output_type": "stream",
     "text": [
      "9:45\n",
      "손흥민 이적 가능성, 맨유 맨시티 유베가 1순위? 포체티노 리턴 여부도 중요!\n",
      "조회수 5.2만회\n",
      "9시간 전\n",
      "서형욱의 뽈리TV\n",
      "손흥민이 이적한다면 대상 클럽은 #맨시티 #맨유 #유벤투스 중 하나일 확률이 가장 높다는 분석이 나왔네요. 이런건 도박사들이 또 ...\n",
      "새 동영상\n"
     ]
    }
   ],
   "source": [
    "# 리스크가 있지만(데이터 누락) 초간단 방식\n",
    "# 단 순서가 바뀌면 문제됨\n",
    "for video in videos:\n",
    "    print( video.text )\n",
    "    break"
   ]
  },
  {
   "cell_type": "code",
   "execution_count": null,
   "id": "9eb9ce2c",
   "metadata": {},
   "outputs": [],
   "source": []
  },
  {
   "cell_type": "code",
   "execution_count": null,
   "id": "ff79710a",
   "metadata": {},
   "outputs": [],
   "source": []
  },
  {
   "cell_type": "code",
   "execution_count": null,
   "id": "60569b40",
   "metadata": {},
   "outputs": [],
   "source": []
  },
  {
   "cell_type": "code",
   "execution_count": null,
   "id": "a4a4b30e",
   "metadata": {},
   "outputs": [],
   "source": []
  },
  {
   "cell_type": "code",
   "execution_count": null,
   "id": "15c9484c",
   "metadata": {},
   "outputs": [],
   "source": []
  },
  {
   "cell_type": "code",
   "execution_count": null,
   "id": "2913c3ff",
   "metadata": {},
   "outputs": [],
   "source": []
  },
  {
   "cell_type": "code",
   "execution_count": null,
   "id": "731feb15",
   "metadata": {},
   "outputs": [],
   "source": []
  },
  {
   "cell_type": "code",
   "execution_count": 6,
   "id": "a8182a66",
   "metadata": {
    "collapsed": true
   },
   "outputs": [
    {
     "ename": "WebDriverException",
     "evalue": "Message: chrome not reachable\n  (Session info: chrome=90.0.4430.212)\n",
     "output_type": "error",
     "traceback": [
      "\u001b[1;31m---------------------------------------------------------------------------\u001b[0m",
      "\u001b[1;31mWebDriverException\u001b[0m                        Traceback (most recent call last)",
      "\u001b[1;32m<ipython-input-6-3ed341f16f46>\u001b[0m in \u001b[0;36m<module>\u001b[1;34m\u001b[0m\n\u001b[0;32m      1\u001b[0m \u001b[1;31m#마무리 코드\u001b[0m\u001b[1;33m\u001b[0m\u001b[1;33m\u001b[0m\u001b[1;33m\u001b[0m\u001b[0m\n\u001b[0;32m      2\u001b[0m \u001b[1;31m#time.sleep(10)\u001b[0m\u001b[1;33m\u001b[0m\u001b[1;33m\u001b[0m\u001b[1;33m\u001b[0m\u001b[0m\n\u001b[1;32m----> 3\u001b[1;33m \u001b[0mdriver\u001b[0m\u001b[1;33m.\u001b[0m\u001b[0mclose\u001b[0m\u001b[1;33m(\u001b[0m\u001b[1;33m)\u001b[0m\u001b[1;33m\u001b[0m\u001b[1;33m\u001b[0m\u001b[0m\n\u001b[0m\u001b[0;32m      4\u001b[0m \u001b[0mdriver\u001b[0m\u001b[1;33m.\u001b[0m\u001b[0mquit\u001b[0m\u001b[1;33m(\u001b[0m\u001b[1;33m)\u001b[0m\u001b[1;33m\u001b[0m\u001b[1;33m\u001b[0m\u001b[0m\n\u001b[0;32m      5\u001b[0m \u001b[1;33m\u001b[0m\u001b[0m\n",
      "\u001b[1;32m~\\miniconda3\\lib\\site-packages\\selenium\\webdriver\\remote\\webdriver.py\u001b[0m in \u001b[0;36mclose\u001b[1;34m(self)\u001b[0m\n\u001b[0;32m    686\u001b[0m             \u001b[0mdriver\u001b[0m\u001b[1;33m.\u001b[0m\u001b[0mclose\u001b[0m\u001b[1;33m(\u001b[0m\u001b[1;33m)\u001b[0m\u001b[1;33m\u001b[0m\u001b[1;33m\u001b[0m\u001b[0m\n\u001b[0;32m    687\u001b[0m         \"\"\"\n\u001b[1;32m--> 688\u001b[1;33m         \u001b[0mself\u001b[0m\u001b[1;33m.\u001b[0m\u001b[0mexecute\u001b[0m\u001b[1;33m(\u001b[0m\u001b[0mCommand\u001b[0m\u001b[1;33m.\u001b[0m\u001b[0mCLOSE\u001b[0m\u001b[1;33m)\u001b[0m\u001b[1;33m\u001b[0m\u001b[1;33m\u001b[0m\u001b[0m\n\u001b[0m\u001b[0;32m    689\u001b[0m \u001b[1;33m\u001b[0m\u001b[0m\n\u001b[0;32m    690\u001b[0m     \u001b[1;32mdef\u001b[0m \u001b[0mquit\u001b[0m\u001b[1;33m(\u001b[0m\u001b[0mself\u001b[0m\u001b[1;33m)\u001b[0m\u001b[1;33m:\u001b[0m\u001b[1;33m\u001b[0m\u001b[1;33m\u001b[0m\u001b[0m\n",
      "\u001b[1;32m~\\miniconda3\\lib\\site-packages\\selenium\\webdriver\\remote\\webdriver.py\u001b[0m in \u001b[0;36mexecute\u001b[1;34m(self, driver_command, params)\u001b[0m\n\u001b[0;32m    319\u001b[0m         \u001b[0mresponse\u001b[0m \u001b[1;33m=\u001b[0m \u001b[0mself\u001b[0m\u001b[1;33m.\u001b[0m\u001b[0mcommand_executor\u001b[0m\u001b[1;33m.\u001b[0m\u001b[0mexecute\u001b[0m\u001b[1;33m(\u001b[0m\u001b[0mdriver_command\u001b[0m\u001b[1;33m,\u001b[0m \u001b[0mparams\u001b[0m\u001b[1;33m)\u001b[0m\u001b[1;33m\u001b[0m\u001b[1;33m\u001b[0m\u001b[0m\n\u001b[0;32m    320\u001b[0m         \u001b[1;32mif\u001b[0m \u001b[0mresponse\u001b[0m\u001b[1;33m:\u001b[0m\u001b[1;33m\u001b[0m\u001b[1;33m\u001b[0m\u001b[0m\n\u001b[1;32m--> 321\u001b[1;33m             \u001b[0mself\u001b[0m\u001b[1;33m.\u001b[0m\u001b[0merror_handler\u001b[0m\u001b[1;33m.\u001b[0m\u001b[0mcheck_response\u001b[0m\u001b[1;33m(\u001b[0m\u001b[0mresponse\u001b[0m\u001b[1;33m)\u001b[0m\u001b[1;33m\u001b[0m\u001b[1;33m\u001b[0m\u001b[0m\n\u001b[0m\u001b[0;32m    322\u001b[0m             response['value'] = self._unwrap_value(\n\u001b[0;32m    323\u001b[0m                 response.get('value', None))\n",
      "\u001b[1;32m~\\miniconda3\\lib\\site-packages\\selenium\\webdriver\\remote\\errorhandler.py\u001b[0m in \u001b[0;36mcheck_response\u001b[1;34m(self, response)\u001b[0m\n\u001b[0;32m    240\u001b[0m                 \u001b[0malert_text\u001b[0m \u001b[1;33m=\u001b[0m \u001b[0mvalue\u001b[0m\u001b[1;33m[\u001b[0m\u001b[1;34m'alert'\u001b[0m\u001b[1;33m]\u001b[0m\u001b[1;33m.\u001b[0m\u001b[0mget\u001b[0m\u001b[1;33m(\u001b[0m\u001b[1;34m'text'\u001b[0m\u001b[1;33m)\u001b[0m\u001b[1;33m\u001b[0m\u001b[1;33m\u001b[0m\u001b[0m\n\u001b[0;32m    241\u001b[0m             \u001b[1;32mraise\u001b[0m \u001b[0mexception_class\u001b[0m\u001b[1;33m(\u001b[0m\u001b[0mmessage\u001b[0m\u001b[1;33m,\u001b[0m \u001b[0mscreen\u001b[0m\u001b[1;33m,\u001b[0m \u001b[0mstacktrace\u001b[0m\u001b[1;33m,\u001b[0m \u001b[0malert_text\u001b[0m\u001b[1;33m)\u001b[0m\u001b[1;33m\u001b[0m\u001b[1;33m\u001b[0m\u001b[0m\n\u001b[1;32m--> 242\u001b[1;33m         \u001b[1;32mraise\u001b[0m \u001b[0mexception_class\u001b[0m\u001b[1;33m(\u001b[0m\u001b[0mmessage\u001b[0m\u001b[1;33m,\u001b[0m \u001b[0mscreen\u001b[0m\u001b[1;33m,\u001b[0m \u001b[0mstacktrace\u001b[0m\u001b[1;33m)\u001b[0m\u001b[1;33m\u001b[0m\u001b[1;33m\u001b[0m\u001b[0m\n\u001b[0m\u001b[0;32m    243\u001b[0m \u001b[1;33m\u001b[0m\u001b[0m\n\u001b[0;32m    244\u001b[0m     \u001b[1;32mdef\u001b[0m \u001b[0m_value_or_default\u001b[0m\u001b[1;33m(\u001b[0m\u001b[0mself\u001b[0m\u001b[1;33m,\u001b[0m \u001b[0mobj\u001b[0m\u001b[1;33m,\u001b[0m \u001b[0mkey\u001b[0m\u001b[1;33m,\u001b[0m \u001b[0mdefault\u001b[0m\u001b[1;33m)\u001b[0m\u001b[1;33m:\u001b[0m\u001b[1;33m\u001b[0m\u001b[1;33m\u001b[0m\u001b[0m\n",
      "\u001b[1;31mWebDriverException\u001b[0m: Message: chrome not reachable\n  (Session info: chrome=90.0.4430.212)\n"
     ]
    }
   ],
   "source": [
    "#마무리 코드\n",
    "time.sleep(10)\n",
    "driver.close()\n",
    "driver.quit()\n",
    "\n",
    "# 이코드는 항상 끝에 나와야함."
   ]
  },
  {
   "cell_type": "code",
   "execution_count": null,
   "id": "35bd84c1",
   "metadata": {},
   "outputs": [],
   "source": []
  }
 ],
 "metadata": {
  "kernelspec": {
   "display_name": "Python 3",
   "language": "python",
   "name": "python3"
  },
  "language_info": {
   "codemirror_mode": {
    "name": "ipython",
    "version": 3
   },
   "file_extension": ".py",
   "mimetype": "text/x-python",
   "name": "python",
   "nbconvert_exporter": "python",
   "pygments_lexer": "ipython3",
   "version": "3.9.1"
  }
 },
 "nbformat": 4,
 "nbformat_minor": 5
}
